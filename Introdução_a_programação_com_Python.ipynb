{
  "nbformat": 4,
  "nbformat_minor": 0,
  "metadata": {
    "kernelspec": {
      "display_name": "Python 3",
      "language": "python",
      "name": "python3"
    },
    "language_info": {
      "codemirror_mode": {
        "name": "ipython",
        "version": 3
      },
      "file_extension": ".py",
      "mimetype": "text/x-python",
      "name": "python",
      "nbconvert_exporter": "python",
      "pygments_lexer": "ipython3",
      "version": "3.7.4"
    },
    "colab": {
      "name": "Introdução_a_programação_com_Python.ipynb",
      "provenance": [],
      "include_colab_link": true
    }
  },
  "cells": [
    {
      "cell_type": "markdown",
      "metadata": {
        "id": "view-in-github",
        "colab_type": "text"
      },
      "source": [
        "<a href=\"https://colab.research.google.com/github/PatrickVilela/Python_para_Finan-as/blob/main/Introdu%C3%A7%C3%A3o_a_programa%C3%A7%C3%A3o_com_Python.ipynb\" target=\"_parent\"><img src=\"https://colab.research.google.com/assets/colab-badge.svg\" alt=\"Open In Colab\"/></a>"
      ]
    },
    {
      "cell_type": "markdown",
      "metadata": {
        "id": "iEFNow4AdD-g"
      },
      "source": [
        "** Introdução à programação com Python **\n",
        "\n",
        "01 - Variáveis e Tipos de Dados do Python\n"
      ]
    },
    {
      "cell_type": "code",
      "metadata": {
        "id": "wJHqcy59dD-l"
      },
      "source": [
        "x = 5"
      ],
      "execution_count": null,
      "outputs": []
    },
    {
      "cell_type": "code",
      "metadata": {
        "id": "e57RK8rWdD-o",
        "outputId": "2dd4318b-bbf6-4688-db6b-6f4a03affd30"
      },
      "source": [
        "x"
      ],
      "execution_count": null,
      "outputs": [
        {
          "output_type": "execute_result",
          "data": {
            "text/plain": [
              "5"
            ]
          },
          "metadata": {
            "tags": []
          },
          "execution_count": 2
        }
      ]
    },
    {
      "cell_type": "code",
      "metadata": {
        "id": "swajkyiYdD-q"
      },
      "source": [
        "y = 8"
      ],
      "execution_count": null,
      "outputs": []
    },
    {
      "cell_type": "code",
      "metadata": {
        "id": "ih46e0C8dD-q",
        "outputId": "c3bfbca5-edf7-415d-a343-e75a48fa8750"
      },
      "source": [
        "y"
      ],
      "execution_count": null,
      "outputs": [
        {
          "output_type": "execute_result",
          "data": {
            "text/plain": [
              "8"
            ]
          },
          "metadata": {
            "tags": []
          },
          "execution_count": 5
        }
      ]
    },
    {
      "cell_type": "code",
      "metadata": {
        "scrolled": true,
        "id": "Gg6NkpVRdD-r",
        "outputId": "e7a1bbce-a422-407c-c74d-29fb57e7b2e7"
      },
      "source": [
        "print y"
      ],
      "execution_count": null,
      "outputs": [
        {
          "output_type": "error",
          "ename": "SyntaxError",
          "evalue": "Missing parentheses in call to 'print'. Did you mean print(y)? (<ipython-input-6-3bd31d684b1f>, line 1)",
          "traceback": [
            "\u001b[1;36m  File \u001b[1;32m\"<ipython-input-6-3bd31d684b1f>\"\u001b[1;36m, line \u001b[1;32m1\u001b[0m\n\u001b[1;33m    print y\u001b[0m\n\u001b[1;37m          ^\u001b[0m\n\u001b[1;31mSyntaxError\u001b[0m\u001b[1;31m:\u001b[0m Missing parentheses in call to 'print'. Did you mean print(y)?\n"
          ]
        }
      ]
    },
    {
      "cell_type": "code",
      "metadata": {
        "id": "MKQg59vrdD-r",
        "outputId": "08da22e6-2fd9-42e4-f126-9066ee23e6c6"
      },
      "source": [
        "print(y)"
      ],
      "execution_count": null,
      "outputs": [
        {
          "output_type": "stream",
          "text": [
            "8\n"
          ],
          "name": "stdout"
        }
      ]
    },
    {
      "cell_type": "markdown",
      "metadata": {
        "id": "Q8UFl1ZndD-s"
      },
      "source": [
        "** Python 2 e Python 3 ---- Para o Python 3 utilizamos o parentes ----- Print () "
      ]
    },
    {
      "cell_type": "code",
      "metadata": {
        "id": "BJfb1_IOdD-s"
      },
      "source": [
        "x,y = (1,2)"
      ],
      "execution_count": null,
      "outputs": []
    },
    {
      "cell_type": "code",
      "metadata": {
        "id": "svydyR4hdD-s",
        "outputId": "c713db10-9c2d-49d7-b345-ec65d4756830"
      },
      "source": [
        "x"
      ],
      "execution_count": null,
      "outputs": [
        {
          "output_type": "execute_result",
          "data": {
            "text/plain": [
              "1"
            ]
          },
          "metadata": {
            "tags": []
          },
          "execution_count": 9
        }
      ]
    },
    {
      "cell_type": "code",
      "metadata": {
        "id": "cuN3fWjNdD-t",
        "outputId": "2dbc13c4-ed3f-40ed-cdb9-fb715257ff42"
      },
      "source": [
        "y"
      ],
      "execution_count": null,
      "outputs": [
        {
          "output_type": "execute_result",
          "data": {
            "text/plain": [
              "2"
            ]
          },
          "metadata": {
            "tags": []
          },
          "execution_count": 10
        }
      ]
    },
    {
      "cell_type": "code",
      "metadata": {
        "id": "IdDhe7sMdD-t",
        "outputId": "48189f75-ec4b-4a78-a167-30e104d2b967"
      },
      "source": [
        "x,y = (1,2,3)"
      ],
      "execution_count": null,
      "outputs": [
        {
          "output_type": "error",
          "ename": "ValueError",
          "evalue": "too many values to unpack (expected 2)",
          "traceback": [
            "\u001b[1;31m---------------------------------------------------------------------------\u001b[0m",
            "\u001b[1;31mValueError\u001b[0m                                Traceback (most recent call last)",
            "\u001b[1;32m<ipython-input-11-0b4403562722>\u001b[0m in \u001b[0;36m<module>\u001b[1;34m\u001b[0m\n\u001b[1;32m----> 1\u001b[1;33m \u001b[0mx\u001b[0m\u001b[1;33m,\u001b[0m\u001b[0my\u001b[0m \u001b[1;33m=\u001b[0m \u001b[1;33m(\u001b[0m\u001b[1;36m1\u001b[0m\u001b[1;33m,\u001b[0m\u001b[1;36m2\u001b[0m\u001b[1;33m,\u001b[0m\u001b[1;36m3\u001b[0m\u001b[1;33m)\u001b[0m\u001b[1;33m\u001b[0m\u001b[1;33m\u001b[0m\u001b[0m\n\u001b[0m",
            "\u001b[1;31mValueError\u001b[0m: too many values to unpack (expected 2)"
          ]
        }
      ]
    },
    {
      "cell_type": "markdown",
      "metadata": {
        "id": "kz5DBKohdD-t"
      },
      "source": [
        "** Importante que o numero de variáveis nessa linha seja igual ao numero de valores"
      ]
    },
    {
      "cell_type": "markdown",
      "metadata": {
        "id": "Z2QIJV-WdD-u"
      },
      "source": [
        "02 - Numeros e valores booleanos\n",
        "\n",
        "Descrições:\n",
        "\n",
        "Inteiros: Numeros inteiros positivos ou negativos: sem um ponto decimal\n",
        "\n",
        "Pontos flutuantes (floats): Numeros reais, sem um ponto decimal\n",
        "\n",
        "Valores Booleanos: Um valor \"True\" ou \"False\"\n",
        "(Um valor \"Verdadeiro\" ou \"Falso\")\n",
        "\n",
        "Strings: Valores de textos compostos por sequência de caracteres\n",
        "\n",
        "\n"
      ]
    },
    {
      "cell_type": "code",
      "metadata": {
        "id": "2X7Bj6KudD-u"
      },
      "source": [
        "x1 = 5"
      ],
      "execution_count": null,
      "outputs": []
    },
    {
      "cell_type": "code",
      "metadata": {
        "id": "PSkzUgSQdD-u",
        "outputId": "281f98f5-dbda-4cf6-90a3-b418b1661e3e"
      },
      "source": [
        "type(x1)"
      ],
      "execution_count": null,
      "outputs": [
        {
          "output_type": "execute_result",
          "data": {
            "text/plain": [
              "int"
            ]
          },
          "metadata": {
            "tags": []
          },
          "execution_count": 13
        }
      ]
    },
    {
      "cell_type": "code",
      "metadata": {
        "id": "7BaTxhhfdD-v",
        "outputId": "eae563bd-3aeb-4b50-bf81-871b25631f87"
      },
      "source": [
        "type(-6)"
      ],
      "execution_count": null,
      "outputs": [
        {
          "output_type": "execute_result",
          "data": {
            "text/plain": [
              "int"
            ]
          },
          "metadata": {
            "tags": []
          },
          "execution_count": 14
        }
      ]
    },
    {
      "cell_type": "code",
      "metadata": {
        "id": "ViRfIdqWdD-v"
      },
      "source": [
        "x2 = 4.75"
      ],
      "execution_count": null,
      "outputs": []
    },
    {
      "cell_type": "code",
      "metadata": {
        "id": "qKmyOJqfdD-v",
        "outputId": "a11c995d-7559-45f4-d4f3-07ae95abc540"
      },
      "source": [
        "type(x2)"
      ],
      "execution_count": null,
      "outputs": [
        {
          "output_type": "execute_result",
          "data": {
            "text/plain": [
              "float"
            ]
          },
          "metadata": {
            "tags": []
          },
          "execution_count": 16
        }
      ]
    },
    {
      "cell_type": "markdown",
      "metadata": {
        "id": "h961is9GdD-v"
      },
      "source": [
        "** Como transformar variaveis\n",
        "\n",
        "Função int() - transforma variavel em um inteiro\n",
        "Função float() - transforma variavel em um float"
      ]
    },
    {
      "cell_type": "code",
      "metadata": {
        "id": "1fs3m4LHdD-w",
        "outputId": "b2f9ca6f-e5a7-402b-ae46-c9193d8ef397"
      },
      "source": [
        "int(x2)"
      ],
      "execution_count": null,
      "outputs": [
        {
          "output_type": "execute_result",
          "data": {
            "text/plain": [
              "4"
            ]
          },
          "metadata": {
            "tags": []
          },
          "execution_count": 17
        }
      ]
    },
    {
      "cell_type": "code",
      "metadata": {
        "id": "LnCScxJAdD-w",
        "outputId": "31591e86-f79a-4895-e251-5c7283144952"
      },
      "source": [
        "float(5)"
      ],
      "execution_count": null,
      "outputs": [
        {
          "output_type": "execute_result",
          "data": {
            "text/plain": [
              "5.0"
            ]
          },
          "metadata": {
            "tags": []
          },
          "execution_count": 18
        }
      ]
    },
    {
      "cell_type": "code",
      "metadata": {
        "id": "7YLMiZvzdD-w"
      },
      "source": [
        "x3 = True"
      ],
      "execution_count": null,
      "outputs": []
    },
    {
      "cell_type": "code",
      "metadata": {
        "id": "kZLmlUAqdD-w",
        "outputId": "c1dffa7e-18ce-4552-d6fc-5022b23f9746"
      },
      "source": [
        "type(x3)"
      ],
      "execution_count": null,
      "outputs": [
        {
          "output_type": "execute_result",
          "data": {
            "text/plain": [
              "bool"
            ]
          },
          "metadata": {
            "tags": []
          },
          "execution_count": 20
        }
      ]
    },
    {
      "cell_type": "code",
      "metadata": {
        "id": "Bdf8oAQLdD-x",
        "outputId": "6949bec3-11d2-4f95-d121-ca76bb405f08"
      },
      "source": [
        "x3 = true"
      ],
      "execution_count": null,
      "outputs": [
        {
          "output_type": "error",
          "ename": "NameError",
          "evalue": "name 'true' is not defined",
          "traceback": [
            "\u001b[1;31m---------------------------------------------------------------------------\u001b[0m",
            "\u001b[1;31mNameError\u001b[0m                                 Traceback (most recent call last)",
            "\u001b[1;32m<ipython-input-21-faf0696b05b2>\u001b[0m in \u001b[0;36m<module>\u001b[1;34m\u001b[0m\n\u001b[1;32m----> 1\u001b[1;33m \u001b[0mx3\u001b[0m \u001b[1;33m=\u001b[0m \u001b[0mtrue\u001b[0m\u001b[1;33m\u001b[0m\u001b[1;33m\u001b[0m\u001b[0m\n\u001b[0m",
            "\u001b[1;31mNameError\u001b[0m: name 'true' is not defined"
          ]
        }
      ]
    },
    {
      "cell_type": "markdown",
      "metadata": {
        "id": "aye6O_V9dD-x"
      },
      "source": [
        "** Quando for utilizar as variaveis booleanas escrever com letra maiuscula senão acontecerá erro."
      ]
    },
    {
      "cell_type": "code",
      "metadata": {
        "id": "stHn7MzBdD-x",
        "outputId": "dbe8caf4-5004-4b28-f5cb-56225f5d7220"
      },
      "source": [
        "George"
      ],
      "execution_count": null,
      "outputs": [
        {
          "output_type": "error",
          "ename": "NameError",
          "evalue": "name 'George' is not defined",
          "traceback": [
            "\u001b[1;31m---------------------------------------------------------------------------\u001b[0m",
            "\u001b[1;31mNameError\u001b[0m                                 Traceback (most recent call last)",
            "\u001b[1;32m<ipython-input-22-669897961384>\u001b[0m in \u001b[0;36m<module>\u001b[1;34m\u001b[0m\n\u001b[1;32m----> 1\u001b[1;33m \u001b[0mGeorge\u001b[0m\u001b[1;33m\u001b[0m\u001b[1;33m\u001b[0m\u001b[0m\n\u001b[0m",
            "\u001b[1;31mNameError\u001b[0m: name 'George' is not defined"
          ]
        }
      ]
    },
    {
      "cell_type": "code",
      "metadata": {
        "id": "q9bXId_5dD-y",
        "outputId": "1734c77d-a3b1-4e3a-cb8f-4eb971d7ec25"
      },
      "source": [
        "'George'"
      ],
      "execution_count": null,
      "outputs": [
        {
          "output_type": "execute_result",
          "data": {
            "text/plain": [
              "'George'"
            ]
          },
          "metadata": {
            "tags": []
          },
          "execution_count": 23
        }
      ]
    },
    {
      "cell_type": "code",
      "metadata": {
        "id": "S80Mzb88dD-y",
        "outputId": "7739e5ef-2943-49d8-9760-a345e08dce1c"
      },
      "source": [
        "\"George\""
      ],
      "execution_count": null,
      "outputs": [
        {
          "output_type": "execute_result",
          "data": {
            "text/plain": [
              "'George'"
            ]
          },
          "metadata": {
            "tags": []
          },
          "execution_count": 24
        }
      ]
    },
    {
      "cell_type": "code",
      "metadata": {
        "id": "7Rlh3T10dD-y",
        "outputId": "1ed2027b-2008-4789-a571-bf276f11604f"
      },
      "source": [
        "print ('George')"
      ],
      "execution_count": null,
      "outputs": [
        {
          "output_type": "stream",
          "text": [
            "George\n"
          ],
          "name": "stdout"
        }
      ]
    },
    {
      "cell_type": "code",
      "metadata": {
        "scrolled": true,
        "id": "ezJt8jHAdD-z"
      },
      "source": [
        "x4 = \"George\""
      ],
      "execution_count": null,
      "outputs": []
    },
    {
      "cell_type": "code",
      "metadata": {
        "id": "wDPf8gYwdD-z",
        "outputId": "677996d4-faa0-4037-d769-c1228ac78916"
      },
      "source": [
        "x4"
      ],
      "execution_count": null,
      "outputs": [
        {
          "output_type": "execute_result",
          "data": {
            "text/plain": [
              "'George'"
            ]
          },
          "metadata": {
            "tags": []
          },
          "execution_count": 29
        }
      ]
    },
    {
      "cell_type": "markdown",
      "metadata": {
        "id": "GpeO5yeHdD-0"
      },
      "source": [
        "** Como apresentar no computador a informação Y dólares\n",
        "\n",
        "y - a quantidade de dolar que você tem em sua carteira"
      ]
    },
    {
      "cell_type": "code",
      "metadata": {
        "id": "jm97lduZdD-0",
        "outputId": "5d399701-8b07-4bd7-de2b-8879910b7d73"
      },
      "source": [
        "y = 10\n",
        "print(y + \"Dollars\")"
      ],
      "execution_count": null,
      "outputs": [
        {
          "output_type": "error",
          "ename": "TypeError",
          "evalue": "unsupported operand type(s) for +: 'int' and 'str'",
          "traceback": [
            "\u001b[1;31m---------------------------------------------------------------------------\u001b[0m",
            "\u001b[1;31mTypeError\u001b[0m                                 Traceback (most recent call last)",
            "\u001b[1;32m<ipython-input-34-ec6a5ccbb3a4>\u001b[0m in \u001b[0;36m<module>\u001b[1;34m\u001b[0m\n\u001b[0;32m      1\u001b[0m \u001b[0my\u001b[0m \u001b[1;33m=\u001b[0m \u001b[1;36m10\u001b[0m\u001b[1;33m\u001b[0m\u001b[1;33m\u001b[0m\u001b[0m\n\u001b[1;32m----> 2\u001b[1;33m \u001b[0mprint\u001b[0m\u001b[1;33m(\u001b[0m\u001b[0my\u001b[0m \u001b[1;33m+\u001b[0m \u001b[1;34m\"Dollars\"\u001b[0m\u001b[1;33m)\u001b[0m\u001b[1;33m\u001b[0m\u001b[1;33m\u001b[0m\u001b[0m\n\u001b[0m",
            "\u001b[1;31mTypeError\u001b[0m: unsupported operand type(s) for +: 'int' and 'str'"
          ]
        }
      ]
    },
    {
      "cell_type": "code",
      "metadata": {
        "id": "fGdN4cmhdD-1",
        "outputId": "4a3d60be-4951-4b1a-f414-72962df5780e"
      },
      "source": [
        "str(y)"
      ],
      "execution_count": null,
      "outputs": [
        {
          "output_type": "execute_result",
          "data": {
            "text/plain": [
              "'10'"
            ]
          },
          "metadata": {
            "tags": []
          },
          "execution_count": 36
        }
      ]
    },
    {
      "cell_type": "code",
      "metadata": {
        "id": "Fc5hmqaudD-1",
        "outputId": "25c49088-7300-4340-d8fd-98ec062eee45"
      },
      "source": [
        "print(y ,'Dollars')"
      ],
      "execution_count": null,
      "outputs": [
        {
          "output_type": "stream",
          "text": [
            "10 Dollars\n"
          ],
          "name": "stdout"
        }
      ]
    },
    {
      "cell_type": "code",
      "metadata": {
        "id": "tZ_D47nUdD-2",
        "outputId": "abff6577-8383-4834-c91b-7dc382724c52"
      },
      "source": [
        "\"I'm fine\""
      ],
      "execution_count": null,
      "outputs": [
        {
          "output_type": "execute_result",
          "data": {
            "text/plain": [
              "\"I'm fine\""
            ]
          },
          "metadata": {
            "tags": []
          },
          "execution_count": 41
        }
      ]
    },
    {
      "cell_type": "code",
      "metadata": {
        "id": "I42E5eypdD-3",
        "outputId": "962204da-ff16-43b4-a8e2-a71cecf5369c"
      },
      "source": [
        "'I\\'m fine'"
      ],
      "execution_count": null,
      "outputs": [
        {
          "output_type": "execute_result",
          "data": {
            "text/plain": [
              "\"I'm fine\""
            ]
          },
          "metadata": {
            "tags": []
          },
          "execution_count": 42
        }
      ]
    },
    {
      "cell_type": "code",
      "metadata": {
        "id": "lE8q59gadD-4",
        "outputId": "1a18ca1b-c009-4f98-dec6-721f243460fc"
      },
      "source": [
        "'Red''Car'"
      ],
      "execution_count": null,
      "outputs": [
        {
          "output_type": "execute_result",
          "data": {
            "text/plain": [
              "'RedCar'"
            ]
          },
          "metadata": {
            "tags": []
          },
          "execution_count": 43
        }
      ]
    },
    {
      "cell_type": "code",
      "metadata": {
        "id": "bVanapdddD-4",
        "outputId": "bde54834-43ac-44ea-bc49-a1ce477d64d9"
      },
      "source": [
        "'Red' 'Car'"
      ],
      "execution_count": null,
      "outputs": [
        {
          "output_type": "execute_result",
          "data": {
            "text/plain": [
              "'RedCar'"
            ]
          },
          "metadata": {
            "tags": []
          },
          "execution_count": 44
        }
      ]
    },
    {
      "cell_type": "code",
      "metadata": {
        "id": "xcOIBonPdD-5",
        "outputId": "5f91a8f6-d0db-4184-b763-0cd8cd30e671"
      },
      "source": [
        "'Red ''Car'"
      ],
      "execution_count": null,
      "outputs": [
        {
          "output_type": "execute_result",
          "data": {
            "text/plain": [
              "'Red Car'"
            ]
          },
          "metadata": {
            "tags": []
          },
          "execution_count": 45
        }
      ]
    },
    {
      "cell_type": "code",
      "metadata": {
        "id": "itfoKtFYdD-5",
        "outputId": "b1766bad-f59f-4947-83f9-33eade4e3f21"
      },
      "source": [
        "print('Red','Car')"
      ],
      "execution_count": null,
      "outputs": [
        {
          "output_type": "stream",
          "text": [
            "Red Car\n"
          ],
          "name": "stdout"
        }
      ]
    },
    {
      "cell_type": "code",
      "metadata": {
        "id": "AgNpHgIVdD-5",
        "outputId": "056155f5-ed78-405f-b58e-4057a3d67cdc"
      },
      "source": [
        "3,5,6.9,7.0,'car'"
      ],
      "execution_count": null,
      "outputs": [
        {
          "output_type": "execute_result",
          "data": {
            "text/plain": [
              "(3, 5, 6.9, 7.0, 'car')"
            ]
          },
          "metadata": {
            "tags": []
          },
          "execution_count": 47
        }
      ]
    },
    {
      "cell_type": "markdown",
      "metadata": {
        "id": "G9N3di_0dD-6"
      },
      "source": [
        "03 - Sintaxe básica do Python\n",
        "\n",
        "** Operadores Aritméticos"
      ]
    },
    {
      "cell_type": "code",
      "metadata": {
        "id": "2mCQacZQdD-6"
      },
      "source": [
        ""
      ],
      "execution_count": null,
      "outputs": []
    }
  ]
}