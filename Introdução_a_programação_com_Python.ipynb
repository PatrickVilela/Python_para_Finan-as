{
  "nbformat": 4,
  "nbformat_minor": 0,
  "metadata": {
    "kernelspec": {
      "display_name": "Python 3",
      "language": "python",
      "name": "python3"
    },
    "language_info": {
      "codemirror_mode": {
        "name": "ipython",
        "version": 3
      },
      "file_extension": ".py",
      "mimetype": "text/x-python",
      "name": "python",
      "nbconvert_exporter": "python",
      "pygments_lexer": "ipython3",
      "version": "3.7.4"
    },
    "colab": {
      "name": "Introdução_a_programação_com_Python.ipynb",
      "provenance": [],
      "include_colab_link": true
    }
  },
  "cells": [
    {
      "cell_type": "markdown",
      "metadata": {
        "id": "view-in-github",
        "colab_type": "text"
      },
      "source": [
        "<a href=\"https://colab.research.google.com/github/PatrickVilela/Python_para_Finan-as/blob/main/Introdu%C3%A7%C3%A3o_a_programa%C3%A7%C3%A3o_com_Python.ipynb\" target=\"_parent\"><img src=\"https://colab.research.google.com/assets/colab-badge.svg\" alt=\"Open In Colab\"/></a>"
      ]
    },
    {
      "cell_type": "markdown",
      "metadata": {
        "id": "qHEA1mObMVat"
      },
      "source": [
        "** Introdução à programação com Python **\n",
        "\n",
        "01 - Variáveis e Tipos de Dados do Python\n"
      ]
    },
    {
      "cell_type": "code",
      "metadata": {
        "id": "w4UF-Gg9MVaz"
      },
      "source": [
        "x = 5"
      ],
      "execution_count": null,
      "outputs": []
    },
    {
      "cell_type": "code",
      "metadata": {
        "id": "_BvrbylQMVaz",
        "outputId": "97172d9a-6d90-47fd-adf7-9666f0596020"
      },
      "source": [
        "x"
      ],
      "execution_count": null,
      "outputs": [
        {
          "output_type": "execute_result",
          "data": {
            "text/plain": [
              "5"
            ]
          },
          "metadata": {
            "tags": []
          },
          "execution_count": 2
        }
      ]
    },
    {
      "cell_type": "code",
      "metadata": {
        "id": "5xOye3bXMVa0"
      },
      "source": [
        "y = 8"
      ],
      "execution_count": null,
      "outputs": []
    },
    {
      "cell_type": "code",
      "metadata": {
        "id": "nfC4X4dDMVa1",
        "outputId": "496aad7d-3f17-4107-994b-52fb50d5991c"
      },
      "source": [
        "y"
      ],
      "execution_count": null,
      "outputs": [
        {
          "output_type": "execute_result",
          "data": {
            "text/plain": [
              "8"
            ]
          },
          "metadata": {
            "tags": []
          },
          "execution_count": 5
        }
      ]
    },
    {
      "cell_type": "code",
      "metadata": {
        "scrolled": true,
        "id": "QN89-LPUMVa2",
        "outputId": "1784d34b-1015-4269-d04b-21b88c37383c"
      },
      "source": [
        "print y"
      ],
      "execution_count": null,
      "outputs": [
        {
          "output_type": "error",
          "ename": "SyntaxError",
          "evalue": "Missing parentheses in call to 'print'. Did you mean print(y)? (<ipython-input-6-3bd31d684b1f>, line 1)",
          "traceback": [
            "\u001b[1;36m  File \u001b[1;32m\"<ipython-input-6-3bd31d684b1f>\"\u001b[1;36m, line \u001b[1;32m1\u001b[0m\n\u001b[1;33m    print y\u001b[0m\n\u001b[1;37m          ^\u001b[0m\n\u001b[1;31mSyntaxError\u001b[0m\u001b[1;31m:\u001b[0m Missing parentheses in call to 'print'. Did you mean print(y)?\n"
          ]
        }
      ]
    },
    {
      "cell_type": "code",
      "metadata": {
        "id": "_e_z5rAAMVa2",
        "outputId": "11ca3974-6a62-43dd-f508-f0018d5a0bb6"
      },
      "source": [
        "print(y)"
      ],
      "execution_count": null,
      "outputs": [
        {
          "output_type": "stream",
          "text": [
            "8\n"
          ],
          "name": "stdout"
        }
      ]
    },
    {
      "cell_type": "markdown",
      "metadata": {
        "id": "nZScojR8MVa3"
      },
      "source": [
        "** Python 2 e Python 3 ---- Para o Python 3 utilizamos o parentes ----- Print () "
      ]
    },
    {
      "cell_type": "code",
      "metadata": {
        "id": "Ncb6SfzhMVa4"
      },
      "source": [
        "x,y = (1,2)"
      ],
      "execution_count": null,
      "outputs": []
    },
    {
      "cell_type": "code",
      "metadata": {
        "id": "vb3c1phaMVa5",
        "outputId": "12fd81c2-5232-49bc-d7af-cd8f3df4b019"
      },
      "source": [
        "x"
      ],
      "execution_count": null,
      "outputs": [
        {
          "output_type": "execute_result",
          "data": {
            "text/plain": [
              "1"
            ]
          },
          "metadata": {
            "tags": []
          },
          "execution_count": 9
        }
      ]
    },
    {
      "cell_type": "code",
      "metadata": {
        "id": "a2zyR5FjMVa5",
        "outputId": "947bf1fe-3d91-4573-d788-e0eacc2e9ffb"
      },
      "source": [
        "y"
      ],
      "execution_count": null,
      "outputs": [
        {
          "output_type": "execute_result",
          "data": {
            "text/plain": [
              "2"
            ]
          },
          "metadata": {
            "tags": []
          },
          "execution_count": 10
        }
      ]
    },
    {
      "cell_type": "code",
      "metadata": {
        "id": "Zqky5YmmMVa6",
        "outputId": "ba10b71a-63c4-404b-a1da-121720cf06cf"
      },
      "source": [
        "x,y = (1,2,3)"
      ],
      "execution_count": null,
      "outputs": [
        {
          "output_type": "error",
          "ename": "ValueError",
          "evalue": "too many values to unpack (expected 2)",
          "traceback": [
            "\u001b[1;31m---------------------------------------------------------------------------\u001b[0m",
            "\u001b[1;31mValueError\u001b[0m                                Traceback (most recent call last)",
            "\u001b[1;32m<ipython-input-11-0b4403562722>\u001b[0m in \u001b[0;36m<module>\u001b[1;34m\u001b[0m\n\u001b[1;32m----> 1\u001b[1;33m \u001b[0mx\u001b[0m\u001b[1;33m,\u001b[0m\u001b[0my\u001b[0m \u001b[1;33m=\u001b[0m \u001b[1;33m(\u001b[0m\u001b[1;36m1\u001b[0m\u001b[1;33m,\u001b[0m\u001b[1;36m2\u001b[0m\u001b[1;33m,\u001b[0m\u001b[1;36m3\u001b[0m\u001b[1;33m)\u001b[0m\u001b[1;33m\u001b[0m\u001b[1;33m\u001b[0m\u001b[0m\n\u001b[0m",
            "\u001b[1;31mValueError\u001b[0m: too many values to unpack (expected 2)"
          ]
        }
      ]
    },
    {
      "cell_type": "markdown",
      "metadata": {
        "id": "aMfQuyghMVa7"
      },
      "source": [
        "** Importante que o numero de variáveis nessa linha seja igual ao numero de valores"
      ]
    },
    {
      "cell_type": "markdown",
      "metadata": {
        "id": "x7SD3bI9MVa7"
      },
      "source": [
        "02 - Numeros e valores booleanos\n",
        "\n",
        "Descrições:\n",
        "\n",
        "Inteiros: Numeros inteiros positivos ou negativos: sem um ponto decimal\n",
        "\n",
        "Pontos flutuantes (floats): Numeros reais, sem um ponto decimal\n",
        "\n",
        "Valores Booleanos: Um valor \"True\" ou \"False\"\n",
        "(Um valor \"Verdadeiro\" ou \"Falso\")\n",
        "\n",
        "Strings: Valores de textos compostos por sequência de caracteres\n",
        "\n",
        "\n"
      ]
    },
    {
      "cell_type": "code",
      "metadata": {
        "id": "mKt2K_3EMVa8"
      },
      "source": [
        "x1 = 5"
      ],
      "execution_count": null,
      "outputs": []
    },
    {
      "cell_type": "code",
      "metadata": {
        "id": "bkf4zRZsMVa8",
        "outputId": "94d500d7-4c1c-450f-b612-9e5de58af47d"
      },
      "source": [
        "type(x1)"
      ],
      "execution_count": null,
      "outputs": [
        {
          "output_type": "execute_result",
          "data": {
            "text/plain": [
              "int"
            ]
          },
          "metadata": {
            "tags": []
          },
          "execution_count": 13
        }
      ]
    },
    {
      "cell_type": "code",
      "metadata": {
        "id": "IS_wbLG2MVa9",
        "outputId": "b30c9226-b679-42f0-b2d2-af12b5ff46f8"
      },
      "source": [
        "type(-6)"
      ],
      "execution_count": null,
      "outputs": [
        {
          "output_type": "execute_result",
          "data": {
            "text/plain": [
              "int"
            ]
          },
          "metadata": {
            "tags": []
          },
          "execution_count": 14
        }
      ]
    },
    {
      "cell_type": "code",
      "metadata": {
        "id": "YyRwrJ_FMVa9"
      },
      "source": [
        "x2 = 4.75"
      ],
      "execution_count": 2,
      "outputs": []
    },
    {
      "cell_type": "code",
      "metadata": {
        "colab": {
          "base_uri": "https://localhost:8080/"
        },
        "id": "XcMbr9JaMVa9",
        "outputId": "76b67b10-693b-48ea-c3d5-3028ea188e36"
      },
      "source": [
        "type(x2)"
      ],
      "execution_count": 3,
      "outputs": [
        {
          "output_type": "execute_result",
          "data": {
            "text/plain": [
              "float"
            ]
          },
          "metadata": {
            "tags": []
          },
          "execution_count": 3
        }
      ]
    },
    {
      "cell_type": "markdown",
      "metadata": {
        "id": "4mD1EbItMVa9"
      },
      "source": [
        "** Como transformar variaveis\n",
        "\n",
        "Função int() - transforma variavel em um inteiro\n",
        "\n",
        "Função float() - transforma variavel em um float"
      ]
    },
    {
      "cell_type": "code",
      "metadata": {
        "id": "P6rn10pkMVa-",
        "outputId": "cb2dca4b-2140-4ed6-ccf6-bc809d3959ba"
      },
      "source": [
        "int(x2)"
      ],
      "execution_count": null,
      "outputs": [
        {
          "output_type": "execute_result",
          "data": {
            "text/plain": [
              "4"
            ]
          },
          "metadata": {
            "tags": []
          },
          "execution_count": 17
        }
      ]
    },
    {
      "cell_type": "code",
      "metadata": {
        "id": "FXc4xg1pMVa-",
        "outputId": "b9e18348-8fd0-49b3-8207-fb2f833de986"
      },
      "source": [
        "float(5)"
      ],
      "execution_count": null,
      "outputs": [
        {
          "output_type": "execute_result",
          "data": {
            "text/plain": [
              "5.0"
            ]
          },
          "metadata": {
            "tags": []
          },
          "execution_count": 18
        }
      ]
    },
    {
      "cell_type": "code",
      "metadata": {
        "id": "0Bp8vzqSMVa-"
      },
      "source": [
        "x3 = True"
      ],
      "execution_count": null,
      "outputs": []
    },
    {
      "cell_type": "code",
      "metadata": {
        "id": "2qjm9mUFMVa_",
        "outputId": "f7ee9415-0c9b-401f-f083-9ed0290eb1c6"
      },
      "source": [
        "type(x3)"
      ],
      "execution_count": null,
      "outputs": [
        {
          "output_type": "execute_result",
          "data": {
            "text/plain": [
              "bool"
            ]
          },
          "metadata": {
            "tags": []
          },
          "execution_count": 20
        }
      ]
    },
    {
      "cell_type": "code",
      "metadata": {
        "id": "4qSz8NSBMVa_",
        "outputId": "23d332a6-ffb2-457e-ca94-0b188276844d"
      },
      "source": [
        "x3 = true"
      ],
      "execution_count": null,
      "outputs": [
        {
          "output_type": "error",
          "ename": "NameError",
          "evalue": "name 'true' is not defined",
          "traceback": [
            "\u001b[1;31m---------------------------------------------------------------------------\u001b[0m",
            "\u001b[1;31mNameError\u001b[0m                                 Traceback (most recent call last)",
            "\u001b[1;32m<ipython-input-21-faf0696b05b2>\u001b[0m in \u001b[0;36m<module>\u001b[1;34m\u001b[0m\n\u001b[1;32m----> 1\u001b[1;33m \u001b[0mx3\u001b[0m \u001b[1;33m=\u001b[0m \u001b[0mtrue\u001b[0m\u001b[1;33m\u001b[0m\u001b[1;33m\u001b[0m\u001b[0m\n\u001b[0m",
            "\u001b[1;31mNameError\u001b[0m: name 'true' is not defined"
          ]
        }
      ]
    },
    {
      "cell_type": "markdown",
      "metadata": {
        "id": "N83wAgNDMVa_"
      },
      "source": [
        "** Quando for utilizar as variaveis booleanas escrever com letra maiuscula senão acontecerá erro."
      ]
    },
    {
      "cell_type": "code",
      "metadata": {
        "id": "X4EVkBsSMVa_",
        "outputId": "7bf895f7-6591-422d-ee7c-16418042e197"
      },
      "source": [
        "George"
      ],
      "execution_count": null,
      "outputs": [
        {
          "output_type": "error",
          "ename": "NameError",
          "evalue": "name 'George' is not defined",
          "traceback": [
            "\u001b[1;31m---------------------------------------------------------------------------\u001b[0m",
            "\u001b[1;31mNameError\u001b[0m                                 Traceback (most recent call last)",
            "\u001b[1;32m<ipython-input-22-669897961384>\u001b[0m in \u001b[0;36m<module>\u001b[1;34m\u001b[0m\n\u001b[1;32m----> 1\u001b[1;33m \u001b[0mGeorge\u001b[0m\u001b[1;33m\u001b[0m\u001b[1;33m\u001b[0m\u001b[0m\n\u001b[0m",
            "\u001b[1;31mNameError\u001b[0m: name 'George' is not defined"
          ]
        }
      ]
    },
    {
      "cell_type": "code",
      "metadata": {
        "id": "Au_0R2A5MVbA",
        "outputId": "6056a820-caf1-4927-904c-645d80e810d0"
      },
      "source": [
        "'George'"
      ],
      "execution_count": null,
      "outputs": [
        {
          "output_type": "execute_result",
          "data": {
            "text/plain": [
              "'George'"
            ]
          },
          "metadata": {
            "tags": []
          },
          "execution_count": 23
        }
      ]
    },
    {
      "cell_type": "code",
      "metadata": {
        "id": "pU8uobe4MVbA",
        "outputId": "b718b4b5-bc87-442d-ed3e-e8a6660273a4"
      },
      "source": [
        "\"George\""
      ],
      "execution_count": null,
      "outputs": [
        {
          "output_type": "execute_result",
          "data": {
            "text/plain": [
              "'George'"
            ]
          },
          "metadata": {
            "tags": []
          },
          "execution_count": 24
        }
      ]
    },
    {
      "cell_type": "code",
      "metadata": {
        "id": "MSkf8HZXMVbB",
        "outputId": "0877204f-2d44-4934-a3ab-f4d3ea584d5f"
      },
      "source": [
        "print ('George')"
      ],
      "execution_count": null,
      "outputs": [
        {
          "output_type": "stream",
          "text": [
            "George\n"
          ],
          "name": "stdout"
        }
      ]
    },
    {
      "cell_type": "code",
      "metadata": {
        "scrolled": true,
        "id": "TsT-_Tl-MVbB"
      },
      "source": [
        "x4 = \"George\""
      ],
      "execution_count": null,
      "outputs": []
    },
    {
      "cell_type": "code",
      "metadata": {
        "id": "mxMfy4_cMVbB",
        "outputId": "4b14d6d1-d35d-411a-f6e2-d628c9287799"
      },
      "source": [
        "x4"
      ],
      "execution_count": null,
      "outputs": [
        {
          "output_type": "execute_result",
          "data": {
            "text/plain": [
              "'George'"
            ]
          },
          "metadata": {
            "tags": []
          },
          "execution_count": 29
        }
      ]
    },
    {
      "cell_type": "markdown",
      "metadata": {
        "id": "8HLg2-bGMVbB"
      },
      "source": [
        "** Como apresentar no computador a informação Y dólares\n",
        "\n",
        "y - a quantidade de dolar que você tem em sua carteira"
      ]
    },
    {
      "cell_type": "code",
      "metadata": {
        "id": "VICPcUy_MVbC",
        "outputId": "0313dcd6-f99f-4f93-c0eb-d6b9ec72c346"
      },
      "source": [
        "y = 10\n",
        "print(y + \"Dollars\")"
      ],
      "execution_count": null,
      "outputs": [
        {
          "output_type": "error",
          "ename": "TypeError",
          "evalue": "unsupported operand type(s) for +: 'int' and 'str'",
          "traceback": [
            "\u001b[1;31m---------------------------------------------------------------------------\u001b[0m",
            "\u001b[1;31mTypeError\u001b[0m                                 Traceback (most recent call last)",
            "\u001b[1;32m<ipython-input-34-ec6a5ccbb3a4>\u001b[0m in \u001b[0;36m<module>\u001b[1;34m\u001b[0m\n\u001b[0;32m      1\u001b[0m \u001b[0my\u001b[0m \u001b[1;33m=\u001b[0m \u001b[1;36m10\u001b[0m\u001b[1;33m\u001b[0m\u001b[1;33m\u001b[0m\u001b[0m\n\u001b[1;32m----> 2\u001b[1;33m \u001b[0mprint\u001b[0m\u001b[1;33m(\u001b[0m\u001b[0my\u001b[0m \u001b[1;33m+\u001b[0m \u001b[1;34m\"Dollars\"\u001b[0m\u001b[1;33m)\u001b[0m\u001b[1;33m\u001b[0m\u001b[1;33m\u001b[0m\u001b[0m\n\u001b[0m",
            "\u001b[1;31mTypeError\u001b[0m: unsupported operand type(s) for +: 'int' and 'str'"
          ]
        }
      ]
    },
    {
      "cell_type": "code",
      "metadata": {
        "id": "oQgcega3MVbC",
        "outputId": "c5b7b155-7cb2-4b9a-d82b-c882f13fdfa7"
      },
      "source": [
        "str(y)"
      ],
      "execution_count": null,
      "outputs": [
        {
          "output_type": "execute_result",
          "data": {
            "text/plain": [
              "'10'"
            ]
          },
          "metadata": {
            "tags": []
          },
          "execution_count": 36
        }
      ]
    },
    {
      "cell_type": "code",
      "metadata": {
        "id": "FnHj31IEMVbC",
        "outputId": "47ad0936-75c5-4ccb-efdd-55b027d1d3b5"
      },
      "source": [
        "print(y ,'Dollars')"
      ],
      "execution_count": null,
      "outputs": [
        {
          "output_type": "stream",
          "text": [
            "10 Dollars\n"
          ],
          "name": "stdout"
        }
      ]
    },
    {
      "cell_type": "code",
      "metadata": {
        "id": "9PEfbsp4MVbC",
        "outputId": "1349b4d5-8548-4fc8-d610-7f3670f55630"
      },
      "source": [
        "\"I'm fine\""
      ],
      "execution_count": null,
      "outputs": [
        {
          "output_type": "execute_result",
          "data": {
            "text/plain": [
              "\"I'm fine\""
            ]
          },
          "metadata": {
            "tags": []
          },
          "execution_count": 41
        }
      ]
    },
    {
      "cell_type": "code",
      "metadata": {
        "id": "ahS-js6ZMVbD",
        "outputId": "9698fe62-fff5-4d80-fb15-94384bb3df39"
      },
      "source": [
        "'I\\'m fine'"
      ],
      "execution_count": null,
      "outputs": [
        {
          "output_type": "execute_result",
          "data": {
            "text/plain": [
              "\"I'm fine\""
            ]
          },
          "metadata": {
            "tags": []
          },
          "execution_count": 42
        }
      ]
    },
    {
      "cell_type": "code",
      "metadata": {
        "id": "AIvMoN90MVbD",
        "outputId": "41314469-51c1-48fa-ff0e-f1b6a4587109"
      },
      "source": [
        "'Red''Car'"
      ],
      "execution_count": null,
      "outputs": [
        {
          "output_type": "execute_result",
          "data": {
            "text/plain": [
              "'RedCar'"
            ]
          },
          "metadata": {
            "tags": []
          },
          "execution_count": 43
        }
      ]
    },
    {
      "cell_type": "code",
      "metadata": {
        "id": "1SapyY2nMVbD",
        "outputId": "fe693041-87d6-4495-850d-6244ac12a790"
      },
      "source": [
        "'Red' 'Car'"
      ],
      "execution_count": null,
      "outputs": [
        {
          "output_type": "execute_result",
          "data": {
            "text/plain": [
              "'RedCar'"
            ]
          },
          "metadata": {
            "tags": []
          },
          "execution_count": 44
        }
      ]
    },
    {
      "cell_type": "code",
      "metadata": {
        "id": "_4zPEBOkMVbE",
        "outputId": "efffe307-0b41-4092-a55e-0016c2f1a2ea"
      },
      "source": [
        "'Red ''Car'"
      ],
      "execution_count": null,
      "outputs": [
        {
          "output_type": "execute_result",
          "data": {
            "text/plain": [
              "'Red Car'"
            ]
          },
          "metadata": {
            "tags": []
          },
          "execution_count": 45
        }
      ]
    },
    {
      "cell_type": "code",
      "metadata": {
        "id": "c23IW76DMVbE",
        "outputId": "452e3227-8a41-4fe7-f5bb-40559789e6d7"
      },
      "source": [
        "print('Red','Car')"
      ],
      "execution_count": null,
      "outputs": [
        {
          "output_type": "stream",
          "text": [
            "Red Car\n"
          ],
          "name": "stdout"
        }
      ]
    },
    {
      "cell_type": "code",
      "metadata": {
        "id": "zLc83DDmMVbF",
        "outputId": "9ed6aba0-174f-4aca-eeb7-75669209c646"
      },
      "source": [
        "3,5,6.9,7.0,'car'"
      ],
      "execution_count": null,
      "outputs": [
        {
          "output_type": "execute_result",
          "data": {
            "text/plain": [
              "(3, 5, 6.9, 7.0, 'car')"
            ]
          },
          "metadata": {
            "tags": []
          },
          "execution_count": 47
        }
      ]
    },
    {
      "cell_type": "markdown",
      "metadata": {
        "id": "nzNIL--UMVbG"
      },
      "source": [
        "03 - Sintaxe básica do Python\n",
        "\n",
        "** Operadores Aritméticos\n",
        "\n",
        "Operadores:\n",
        "\n",
        "Adição +\n",
        "\n",
        "Subtração - \n",
        "\n",
        "Divisão /\n",
        "\n",
        "Multiplicação *\n",
        "\n",
        "Potenciação **\n",
        "\n"
      ]
    },
    {
      "cell_type": "code",
      "metadata": {
        "id": "R6Hf9XtJMVbH"
      },
      "source": [
        "1 + 2"
      ],
      "execution_count": null,
      "outputs": []
    },
    {
      "cell_type": "code",
      "metadata": {
        "id": "PGTG5tAkMVbI",
        "outputId": "c588fa49-5f49-437a-cf3b-2c34500a9c41"
      },
      "source": [
        "3 - 5"
      ],
      "execution_count": null,
      "outputs": [
        {
          "output_type": "execute_result",
          "data": {
            "text/plain": [
              "-2"
            ]
          },
          "metadata": {
            "tags": []
          },
          "execution_count": 49
        }
      ]
    },
    {
      "cell_type": "code",
      "metadata": {
        "id": "tY-xNHuEMVbL",
        "outputId": "2df5a773-b8dc-4259-dbd3-13e0c6398de7"
      },
      "source": [
        "15 / 3"
      ],
      "execution_count": null,
      "outputs": [
        {
          "output_type": "execute_result",
          "data": {
            "text/plain": [
              "5.0"
            ]
          },
          "metadata": {
            "tags": []
          },
          "execution_count": 50
        }
      ]
    },
    {
      "cell_type": "code",
      "metadata": {
        "id": "LP92-F4sMVbM",
        "outputId": "18c8c9b3-387a-4b02-b97a-89c9af58fe7f"
      },
      "source": [
        "16 / 3"
      ],
      "execution_count": null,
      "outputs": [
        {
          "output_type": "execute_result",
          "data": {
            "text/plain": [
              "5.333333333333333"
            ]
          },
          "metadata": {
            "tags": []
          },
          "execution_count": 51
        }
      ]
    },
    {
      "cell_type": "code",
      "metadata": {
        "id": "J_DpfkzmMVbM",
        "outputId": "66bf0e33-6505-4d24-b5df-b9b67451b223"
      },
      "source": [
        "float(16)/3"
      ],
      "execution_count": null,
      "outputs": [
        {
          "output_type": "execute_result",
          "data": {
            "text/plain": [
              "5.333333333333333"
            ]
          },
          "metadata": {
            "tags": []
          },
          "execution_count": 52
        }
      ]
    },
    {
      "cell_type": "code",
      "metadata": {
        "id": "1nrJN9uyMVbN",
        "outputId": "a6d1e8e9-7e5f-4891-fb10-5c5d579780e9"
      },
      "source": [
        "16 % 3"
      ],
      "execution_count": null,
      "outputs": [
        {
          "output_type": "execute_result",
          "data": {
            "text/plain": [
              "1"
            ]
          },
          "metadata": {
            "tags": []
          },
          "execution_count": 53
        }
      ]
    },
    {
      "cell_type": "code",
      "metadata": {
        "id": "lIsYos_CMVbN",
        "outputId": "f30bfe25-62f5-4c59-bd41-cca8cec0d49b"
      },
      "source": [
        "5 * 3"
      ],
      "execution_count": null,
      "outputs": [
        {
          "output_type": "execute_result",
          "data": {
            "text/plain": [
              "15"
            ]
          },
          "metadata": {
            "tags": []
          },
          "execution_count": 54
        }
      ]
    },
    {
      "cell_type": "code",
      "metadata": {
        "id": "A8nTpYzaMVbO"
      },
      "source": [
        "X = 5 * 3"
      ],
      "execution_count": null,
      "outputs": []
    },
    {
      "cell_type": "code",
      "metadata": {
        "id": "7A_-0tk8MVbO",
        "outputId": "0bfd3bd5-b08d-46a9-a1b0-387766ef739a"
      },
      "source": [
        "X"
      ],
      "execution_count": null,
      "outputs": [
        {
          "output_type": "execute_result",
          "data": {
            "text/plain": [
              "15"
            ]
          },
          "metadata": {
            "tags": []
          },
          "execution_count": 56
        }
      ]
    },
    {
      "cell_type": "code",
      "metadata": {
        "id": "tDBAiNdcMVbP",
        "outputId": "aaf5e6ec-8c29-46d8-fc1a-105f3ce8b975"
      },
      "source": [
        "5 ** 3"
      ],
      "execution_count": null,
      "outputs": [
        {
          "output_type": "execute_result",
          "data": {
            "text/plain": [
              "125"
            ]
          },
          "metadata": {
            "tags": []
          },
          "execution_count": 58
        }
      ]
    },
    {
      "cell_type": "markdown",
      "metadata": {
        "id": "-MXR1J59MVbP"
      },
      "source": [
        "** Duplo sinal de igual"
      ]
    },
    {
      "cell_type": "code",
      "metadata": {
        "id": "Q5ikNguGMVbP"
      },
      "source": [
        "y = 5 ** 3"
      ],
      "execution_count": null,
      "outputs": []
    },
    {
      "cell_type": "code",
      "metadata": {
        "id": "DbAI1xY3MVbP",
        "outputId": "1602d87f-4322-4c5d-d059-d1c4d2c3d1e5"
      },
      "source": [
        "y"
      ],
      "execution_count": null,
      "outputs": [
        {
          "output_type": "execute_result",
          "data": {
            "text/plain": [
              "125"
            ]
          },
          "metadata": {
            "tags": []
          },
          "execution_count": 60
        }
      ]
    },
    {
      "cell_type": "code",
      "metadata": {
        "id": "RaaMRJxqMVbQ",
        "outputId": "bace3110-7888-40f7-f875-dbae7be81a4b"
      },
      "source": [
        "y == 125"
      ],
      "execution_count": null,
      "outputs": [
        {
          "output_type": "execute_result",
          "data": {
            "text/plain": [
              "True"
            ]
          },
          "metadata": {
            "tags": []
          },
          "execution_count": 61
        }
      ]
    },
    {
      "cell_type": "code",
      "metadata": {
        "id": "qC4oiOi-MVbQ",
        "outputId": "1181ea01-1438-48f3-9a86-aa0c7bb8e40d"
      },
      "source": [
        "y == 126"
      ],
      "execution_count": null,
      "outputs": [
        {
          "output_type": "execute_result",
          "data": {
            "text/plain": [
              "False"
            ]
          },
          "metadata": {
            "tags": []
          },
          "execution_count": 62
        }
      ]
    },
    {
      "cell_type": "markdown",
      "metadata": {
        "id": "7GIWGUOTMVbQ"
      },
      "source": [
        "** Reatribuindo outros valores"
      ]
    },
    {
      "cell_type": "code",
      "metadata": {
        "id": "agcgTT8OMVbQ",
        "outputId": "a228b665-da21-40b4-dbc2-cbdf2d4f4508"
      },
      "source": [
        "z = 1\n",
        "z"
      ],
      "execution_count": null,
      "outputs": [
        {
          "output_type": "execute_result",
          "data": {
            "text/plain": [
              "1"
            ]
          },
          "metadata": {
            "tags": []
          },
          "execution_count": 63
        }
      ]
    },
    {
      "cell_type": "code",
      "metadata": {
        "id": "phydu0foMVbR",
        "outputId": "a59ddb0b-5b79-42db-e548-8d7703de7eba"
      },
      "source": [
        "z = 3\n",
        "z"
      ],
      "execution_count": null,
      "outputs": [
        {
          "output_type": "execute_result",
          "data": {
            "text/plain": [
              "3"
            ]
          },
          "metadata": {
            "tags": []
          },
          "execution_count": 64
        }
      ]
    },
    {
      "cell_type": "code",
      "metadata": {
        "id": "lWcodO9yMVbS",
        "outputId": "7bac1027-0f0f-4fbf-95e7-495bd3e3b954"
      },
      "source": [
        "z + 5"
      ],
      "execution_count": null,
      "outputs": [
        {
          "output_type": "execute_result",
          "data": {
            "text/plain": [
              "8"
            ]
          },
          "metadata": {
            "tags": []
          },
          "execution_count": 65
        }
      ]
    },
    {
      "cell_type": "code",
      "metadata": {
        "id": "LeWaCy0vMVbT"
      },
      "source": [
        "z = 7"
      ],
      "execution_count": null,
      "outputs": []
    },
    {
      "cell_type": "code",
      "metadata": {
        "id": "9e7xPuyNMVbT",
        "outputId": "5714378a-34f8-4925-c497-47b0db41017a"
      },
      "source": [
        "z"
      ],
      "execution_count": null,
      "outputs": [
        {
          "output_type": "execute_result",
          "data": {
            "text/plain": [
              "7"
            ]
          },
          "metadata": {
            "tags": []
          },
          "execution_count": 67
        }
      ]
    },
    {
      "cell_type": "markdown",
      "metadata": {
        "id": "2llQDkkTMVbT"
      },
      "source": [
        "** Adicionando comentários\n",
        "\n",
        "Comentários são sentenças não executadas pelo computador\n"
      ]
    },
    {
      "cell_type": "code",
      "metadata": {
        "id": "8HVq0l3eMVbT"
      },
      "source": [
        "# Comentário são sentenças não executadas \n",
        "# um comentário\n"
      ],
      "execution_count": null,
      "outputs": []
    },
    {
      "cell_type": "code",
      "metadata": {
        "id": "AkN3Yu1qMVbU"
      },
      "source": [
        "# This is jus a comment and not code!\n"
      ],
      "execution_count": null,
      "outputs": []
    },
    {
      "cell_type": "code",
      "metadata": {
        "id": "k4HxGsrwMVbU",
        "outputId": "64d00e3c-9b0d-4154-e091-6d97e29b3e45"
      },
      "source": [
        "# This is jus a comment and not code!\n",
        "print (7,2)"
      ],
      "execution_count": null,
      "outputs": [
        {
          "output_type": "stream",
          "text": [
            "7 2\n"
          ],
          "name": "stdout"
        }
      ]
    },
    {
      "cell_type": "code",
      "metadata": {
        "id": "Dd4IiP2oMVbV",
        "outputId": "b5f23f74-3cdd-487b-d8cc-a0a058d49526"
      },
      "source": [
        "# comments\n",
        "# comments\n",
        "\n",
        "300"
      ],
      "execution_count": null,
      "outputs": [
        {
          "output_type": "execute_result",
          "data": {
            "text/plain": [
              "300"
            ]
          },
          "metadata": {
            "tags": []
          },
          "execution_count": 72
        }
      ]
    },
    {
      "cell_type": "markdown",
      "metadata": {
        "id": "cdD-QVJVMVbW"
      },
      "source": [
        "** Continuação da Linha"
      ]
    },
    {
      "cell_type": "code",
      "metadata": {
        "id": "OJClvmpTMVbW",
        "outputId": "0a8a1d30-c928-4219-817a-7f0ffa5141ba"
      },
      "source": [
        "2.0 * 1.5 + 5"
      ],
      "execution_count": null,
      "outputs": [
        {
          "output_type": "execute_result",
          "data": {
            "text/plain": [
              "8.0"
            ]
          },
          "metadata": {
            "tags": []
          },
          "execution_count": 74
        }
      ]
    },
    {
      "cell_type": "code",
      "metadata": {
        "id": "HYB-RiRjMVbW",
        "outputId": "7ff886f6-4cf4-465a-cef0-9b8660fddacf"
      },
      "source": [
        "2.0 * 1.5 + \\\n",
        "5"
      ],
      "execution_count": null,
      "outputs": [
        {
          "output_type": "execute_result",
          "data": {
            "text/plain": [
              "8.0"
            ]
          },
          "metadata": {
            "tags": []
          },
          "execution_count": 76
        }
      ]
    },
    {
      "cell_type": "markdown",
      "metadata": {
        "id": "Dm_YsLv-MVbX"
      },
      "source": [
        "** Indexação de Elementos\n",
        "\n",
        "Conte a partir de 0,\n",
        "\n",
        "e não a partir de 1!\n",
        "\n",
        "\n",
        "       FRIDAY\n",
        "       012345\n"
      ]
    },
    {
      "cell_type": "code",
      "metadata": {
        "id": "QVGi5Y8AMVbX",
        "outputId": "806b79c7-ef5c-42f0-f451-79c87fbcd9ac"
      },
      "source": [
        "\"Friday\"[4]"
      ],
      "execution_count": null,
      "outputs": [
        {
          "output_type": "execute_result",
          "data": {
            "text/plain": [
              "'a'"
            ]
          },
          "metadata": {
            "tags": []
          },
          "execution_count": 77
        }
      ]
    },
    {
      "cell_type": "markdown",
      "metadata": {
        "id": "haNXdQVNMVbX"
      },
      "source": [
        "** Estruture seu código com identação\n"
      ]
    },
    {
      "cell_type": "code",
      "metadata": {
        "id": "nDdi7OswMVbX",
        "outputId": "3b786918-845a-475b-a0b7-5f1e55caa090"
      },
      "source": [
        "def five(x):\n",
        "    x = 5\n",
        "    return x\n",
        "\n",
        "print (five(3))"
      ],
      "execution_count": null,
      "outputs": [
        {
          "output_type": "stream",
          "text": [
            "5\n"
          ],
          "name": "stdout"
        }
      ]
    },
    {
      "cell_type": "markdown",
      "metadata": {
        "id": "FtuCZ2NPMVbY"
      },
      "source": [
        "04 - Continuação dos Opetadores do Python\n",
        "\n",
        "** Operadores de Comparação\n"
      ]
    },
    {
      "cell_type": "code",
      "metadata": {
        "id": "5mG5lcVYMVbY",
        "outputId": "f528a3b1-08e3-4a84-c74c-992b42b7d172"
      },
      "source": [
        "10 == 20/2"
      ],
      "execution_count": null,
      "outputs": [
        {
          "output_type": "execute_result",
          "data": {
            "text/plain": [
              "True"
            ]
          },
          "metadata": {
            "tags": []
          },
          "execution_count": 83
        }
      ]
    },
    {
      "cell_type": "code",
      "metadata": {
        "id": "NPiqNgRUMVbY",
        "outputId": "33656b5d-1ae3-4fe4-9944-9a1147394c47"
      },
      "source": [
        "10 != 10"
      ],
      "execution_count": null,
      "outputs": [
        {
          "output_type": "execute_result",
          "data": {
            "text/plain": [
              "False"
            ]
          },
          "metadata": {
            "tags": []
          },
          "execution_count": 84
        }
      ]
    },
    {
      "cell_type": "code",
      "metadata": {
        "id": "LFM7rzoaMVbZ",
        "outputId": "7f0dedc7-fa4d-43f7-c158-e884309a5216"
      },
      "source": [
        "10 != 15"
      ],
      "execution_count": null,
      "outputs": [
        {
          "output_type": "execute_result",
          "data": {
            "text/plain": [
              "True"
            ]
          },
          "metadata": {
            "tags": []
          },
          "execution_count": 85
        }
      ]
    },
    {
      "cell_type": "code",
      "metadata": {
        "id": "Uk9_XnlaMVbZ",
        "outputId": "82020052-4a22-4eee-e3c6-76d3c63287e0"
      },
      "source": [
        "100 > 50"
      ],
      "execution_count": null,
      "outputs": [
        {
          "output_type": "execute_result",
          "data": {
            "text/plain": [
              "True"
            ]
          },
          "metadata": {
            "tags": []
          },
          "execution_count": 86
        }
      ]
    },
    {
      "cell_type": "code",
      "metadata": {
        "id": "tbHDipjoMVbZ",
        "outputId": "1203a367-0532-43dc-b447-bde2138e8dbe"
      },
      "source": [
        "100 < 50"
      ],
      "execution_count": null,
      "outputs": [
        {
          "output_type": "execute_result",
          "data": {
            "text/plain": [
              "False"
            ]
          },
          "metadata": {
            "tags": []
          },
          "execution_count": 87
        }
      ]
    },
    {
      "cell_type": "code",
      "metadata": {
        "id": "BzQTS3DXMVba",
        "outputId": "99109136-0c2c-4af5-fa31-06b2d3709af1"
      },
      "source": [
        "15 >= 10 + 10"
      ],
      "execution_count": null,
      "outputs": [
        {
          "output_type": "execute_result",
          "data": {
            "text/plain": [
              "False"
            ]
          },
          "metadata": {
            "tags": []
          },
          "execution_count": 88
        }
      ]
    },
    {
      "cell_type": "code",
      "metadata": {
        "id": "kWqTsOPWMVba",
        "outputId": "08b6419c-9341-42e3-dd8c-5c50e0b7d521"
      },
      "source": [
        "15 <= 10 + 5"
      ],
      "execution_count": null,
      "outputs": [
        {
          "output_type": "execute_result",
          "data": {
            "text/plain": [
              "True"
            ]
          },
          "metadata": {
            "tags": []
          },
          "execution_count": 89
        }
      ]
    },
    {
      "cell_type": "markdown",
      "metadata": {
        "id": "2_Kl3517MVba"
      },
      "source": [
        "** Operadores Lógicos e de Identidade\n",
        "\n",
        "Em resumo os operadores lógicos em Python são as palavras 'not', 'and' e 'or'.\n",
        "        \n",
        "    Ordem prioridade - Not - And - Or na hora de resolver uma operação.\n",
        "               "
      ]
    },
    {
      "cell_type": "code",
      "metadata": {
        "id": "rwm-e0A5MVbb",
        "outputId": "aae7990f-d7a1-4663-dc19-52ebbdc22c4b"
      },
      "source": [
        "True and True"
      ],
      "execution_count": null,
      "outputs": [
        {
          "output_type": "execute_result",
          "data": {
            "text/plain": [
              "True"
            ]
          },
          "metadata": {
            "tags": []
          },
          "execution_count": 90
        }
      ]
    },
    {
      "cell_type": "code",
      "metadata": {
        "id": "YnkoaTfvMVbb",
        "outputId": "0dbf057b-3d72-4d59-be97-ca7bf560a2cf"
      },
      "source": [
        "True and False"
      ],
      "execution_count": null,
      "outputs": [
        {
          "output_type": "execute_result",
          "data": {
            "text/plain": [
              "False"
            ]
          },
          "metadata": {
            "tags": []
          },
          "execution_count": 91
        }
      ]
    },
    {
      "cell_type": "code",
      "metadata": {
        "id": "jg3pOYQ2MVbb",
        "outputId": "27c836e5-8840-472b-a0fe-a1a62ba71541"
      },
      "source": [
        "False and False"
      ],
      "execution_count": null,
      "outputs": [
        {
          "output_type": "execute_result",
          "data": {
            "text/plain": [
              "False"
            ]
          },
          "metadata": {
            "tags": []
          },
          "execution_count": 92
        }
      ]
    },
    {
      "cell_type": "code",
      "metadata": {
        "id": "wVwuYN9pMVbb",
        "outputId": "dd9d57bf-ce9b-4e0b-d9f9-2e80c620f316"
      },
      "source": [
        "False or False"
      ],
      "execution_count": null,
      "outputs": [
        {
          "output_type": "execute_result",
          "data": {
            "text/plain": [
              "False"
            ]
          },
          "metadata": {
            "tags": []
          },
          "execution_count": 93
        }
      ]
    },
    {
      "cell_type": "code",
      "metadata": {
        "id": "i8w38i-SMVbc",
        "outputId": "366960d7-267a-4916-d19d-07815f6e7a8e"
      },
      "source": [
        "True or True"
      ],
      "execution_count": null,
      "outputs": [
        {
          "output_type": "execute_result",
          "data": {
            "text/plain": [
              "True"
            ]
          },
          "metadata": {
            "tags": []
          },
          "execution_count": 94
        }
      ]
    },
    {
      "cell_type": "code",
      "metadata": {
        "id": "uKcO0CjyMVbc",
        "outputId": "165a19c1-0118-4173-fd98-c930523163e5"
      },
      "source": [
        "True or False"
      ],
      "execution_count": null,
      "outputs": [
        {
          "output_type": "execute_result",
          "data": {
            "text/plain": [
              "True"
            ]
          },
          "metadata": {
            "tags": []
          },
          "execution_count": 95
        }
      ]
    },
    {
      "cell_type": "code",
      "metadata": {
        "id": "AkRjYihXMVbc",
        "outputId": "56b31f20-7719-4c20-b18c-3b6c699a4dd9"
      },
      "source": [
        "False or True"
      ],
      "execution_count": null,
      "outputs": [
        {
          "output_type": "execute_result",
          "data": {
            "text/plain": [
              "True"
            ]
          },
          "metadata": {
            "tags": []
          },
          "execution_count": 96
        }
      ]
    },
    {
      "cell_type": "code",
      "metadata": {
        "id": "9vYjH5FzMVbc",
        "outputId": "30baff02-6058-4b50-cc3d-cb462d963021"
      },
      "source": [
        "not True"
      ],
      "execution_count": null,
      "outputs": [
        {
          "output_type": "execute_result",
          "data": {
            "text/plain": [
              "False"
            ]
          },
          "metadata": {
            "tags": []
          },
          "execution_count": 98
        }
      ]
    },
    {
      "cell_type": "code",
      "metadata": {
        "id": "FQHIGUkvMVbd",
        "outputId": "6b868d1d-c7f1-4fe6-8239-5d696544b7de"
      },
      "source": [
        "not False"
      ],
      "execution_count": null,
      "outputs": [
        {
          "output_type": "execute_result",
          "data": {
            "text/plain": [
              "True"
            ]
          },
          "metadata": {
            "tags": []
          },
          "execution_count": 99
        }
      ]
    },
    {
      "cell_type": "code",
      "metadata": {
        "id": "0FTG9lTbMVbd",
        "outputId": "2cb600cd-35f6-440d-ef6f-13b82c98863a"
      },
      "source": [
        "3 > 5 and 10 <= 20"
      ],
      "execution_count": null,
      "outputs": [
        {
          "output_type": "execute_result",
          "data": {
            "text/plain": [
              "False"
            ]
          },
          "metadata": {
            "tags": []
          },
          "execution_count": 101
        }
      ]
    },
    {
      "cell_type": "code",
      "metadata": {
        "id": "iv2MGcJ9MVbd",
        "outputId": "bf250425-9c24-4443-8d39-d8c23e29216d"
      },
      "source": [
        "True and not True"
      ],
      "execution_count": null,
      "outputs": [
        {
          "output_type": "execute_result",
          "data": {
            "text/plain": [
              "False"
            ]
          },
          "metadata": {
            "tags": []
          },
          "execution_count": 102
        }
      ]
    },
    {
      "cell_type": "code",
      "metadata": {
        "id": "yE-ZAQXdMVbd",
        "outputId": "6fdfd3d2-1da4-4e1c-b1a6-31f1473e9d99"
      },
      "source": [
        "False or not True and True"
      ],
      "execution_count": null,
      "outputs": [
        {
          "output_type": "execute_result",
          "data": {
            "text/plain": [
              "False"
            ]
          },
          "metadata": {
            "tags": []
          },
          "execution_count": 103
        }
      ]
    },
    {
      "cell_type": "code",
      "metadata": {
        "id": "_EU7zsrWMVbe",
        "outputId": "5c65396d-6e46-4c42-9560-eda69a29a466"
      },
      "source": [
        "True and not True or True"
      ],
      "execution_count": null,
      "outputs": [
        {
          "output_type": "execute_result",
          "data": {
            "text/plain": [
              "True"
            ]
          },
          "metadata": {
            "tags": []
          },
          "execution_count": 104
        }
      ]
    },
    {
      "cell_type": "code",
      "metadata": {
        "id": "ZwIACv69MVbe"
      },
      "source": [
        "## Operadores de Identidade\n",
        "## Is e is not"
      ],
      "execution_count": null,
      "outputs": []
    },
    {
      "cell_type": "code",
      "metadata": {
        "id": "CXZ4Tr6xMVbe",
        "outputId": "a8849b9d-1129-4b51-a61f-a3896352bc45"
      },
      "source": [
        "5 is 6"
      ],
      "execution_count": null,
      "outputs": [
        {
          "output_type": "execute_result",
          "data": {
            "text/plain": [
              "False"
            ]
          },
          "metadata": {
            "tags": []
          },
          "execution_count": 106
        }
      ]
    },
    {
      "cell_type": "code",
      "metadata": {
        "id": "oSik9xMaMVbe",
        "outputId": "d42c5f52-1079-4374-c908-800a2df207e4"
      },
      "source": [
        "5 == 6 "
      ],
      "execution_count": null,
      "outputs": [
        {
          "output_type": "execute_result",
          "data": {
            "text/plain": [
              "False"
            ]
          },
          "metadata": {
            "tags": []
          },
          "execution_count": 107
        }
      ]
    },
    {
      "cell_type": "code",
      "metadata": {
        "id": "LJYIgaZ1MVbf",
        "outputId": "321a1c23-bcd2-4cb8-deb1-94ad0ac1e205"
      },
      "source": [
        "5 is not 6"
      ],
      "execution_count": null,
      "outputs": [
        {
          "output_type": "execute_result",
          "data": {
            "text/plain": [
              "True"
            ]
          },
          "metadata": {
            "tags": []
          },
          "execution_count": 108
        }
      ]
    },
    {
      "cell_type": "code",
      "metadata": {
        "id": "jJ7njLy8MVbf",
        "outputId": "fb339d02-f9e7-4a41-c750-a08a6f24ad81"
      },
      "source": [
        "5 != 6"
      ],
      "execution_count": null,
      "outputs": [
        {
          "output_type": "execute_result",
          "data": {
            "text/plain": [
              "True"
            ]
          },
          "metadata": {
            "tags": []
          },
          "execution_count": 109
        }
      ]
    },
    {
      "cell_type": "markdown",
      "metadata": {
        "id": "OULjM7cgMVbf"
      },
      "source": [
        "05 - Declarações condicionais\n",
        "\n",
        "** Introdução ao comando IF\n",
        "\n",
        "if condição:\n",
        "cógigo da condição\n",
        "\n",
        "Se 5 = 15/3\n",
        "\n",
        "Se for verdade retorna o valor 'Hooray!'\n",
        "\n"
      ]
    },
    {
      "cell_type": "code",
      "metadata": {
        "id": "-DQM_MfKMVbg",
        "outputId": "bfbfcd5f-7994-4fe1-fb36-ef188cd7a688"
      },
      "source": [
        "if (5 == 15/3):\n",
        "    print('Hooray!')"
      ],
      "execution_count": null,
      "outputs": [
        {
          "output_type": "stream",
          "text": [
            "Hooray!\n"
          ],
          "name": "stdout"
        }
      ]
    },
    {
      "cell_type": "code",
      "metadata": {
        "id": "HEaYKMSYMVbg"
      },
      "source": [
        "if 5 == 18 / 3:\n",
        "    print('Hooray!')"
      ],
      "execution_count": null,
      "outputs": []
    },
    {
      "cell_type": "code",
      "metadata": {
        "id": "3v7aCWFrMVbg",
        "outputId": "d3f77f70-0f78-4369-cbf2-2c82197d6188"
      },
      "source": [
        "if 5 != 3 * 6:\n",
        "    print('Hooray!')"
      ],
      "execution_count": null,
      "outputs": [
        {
          "output_type": "stream",
          "text": [
            "Hooray!\n"
          ],
          "name": "stdout"
        }
      ]
    },
    {
      "cell_type": "markdown",
      "metadata": {
        "id": "1cMFxWbhMVbg"
      },
      "source": [
        "** Adionando um comando Else Elif\n",
        "\n",
        "If condição: codigo da condição\n",
        "\n",
        "Else: Codigo então\n",
        "\n",
        "Elif"
      ]
    },
    {
      "cell_type": "code",
      "metadata": {
        "id": "cj6NAcEtMVbh",
        "outputId": "9ca029b3-6b77-40f9-cdc7-abce3aeed61e"
      },
      "source": [
        "x = 1\n",
        "\n",
        "if x > 3:\n",
        "    print(\"Caso 1\")\n",
        "if x <= 3:\n",
        "    print(\"Caso 2\")"
      ],
      "execution_count": null,
      "outputs": [
        {
          "output_type": "stream",
          "text": [
            "Caso 2\n"
          ],
          "name": "stdout"
        }
      ]
    },
    {
      "cell_type": "code",
      "metadata": {
        "id": "ASm1VIqPMVbh",
        "outputId": "feb66238-fba5-4737-cfd5-455f0fa0ede6"
      },
      "source": [
        "x = 1\n",
        "\n",
        "if x > 3:\n",
        "    print(\"Caso 1\")\n",
        "else:\n",
        "    print(\"Caso 2\")"
      ],
      "execution_count": null,
      "outputs": [
        {
          "output_type": "stream",
          "text": [
            "Caso 2\n"
          ],
          "name": "stdout"
        }
      ]
    },
    {
      "cell_type": "code",
      "metadata": {
        "id": "PX2RRUvCMVbh"
      },
      "source": [
        "def compare_to_five(y):\n",
        "    if y > 5:\n",
        "        return \"Greater\"\n",
        "    elif y < 5:\n",
        "        return \"Less\"\n",
        "    else:\n",
        "        return \"Equal\""
      ],
      "execution_count": null,
      "outputs": []
    },
    {
      "cell_type": "code",
      "metadata": {
        "id": "tBH5X8kPMVbi",
        "outputId": "7ec8b50d-a79b-4250-f76b-947d6a168054"
      },
      "source": [
        "print(compare_to_five(10))"
      ],
      "execution_count": null,
      "outputs": [
        {
          "output_type": "stream",
          "text": [
            "Greater\n"
          ],
          "name": "stdout"
        }
      ]
    },
    {
      "cell_type": "code",
      "metadata": {
        "id": "qLzng-sAMVbi",
        "outputId": "4741900f-77eb-46fb-a573-3a91e51623fc"
      },
      "source": [
        "print(compare_to_five(2))"
      ],
      "execution_count": null,
      "outputs": [
        {
          "output_type": "stream",
          "text": [
            "Less\n"
          ],
          "name": "stdout"
        }
      ]
    },
    {
      "cell_type": "code",
      "metadata": {
        "id": "CN0D7J2UMVbi",
        "outputId": "12b3a665-f616-4dfd-8eaf-2a389dc72df9"
      },
      "source": [
        "print(compare_to_five(5))"
      ],
      "execution_count": null,
      "outputs": [
        {
          "output_type": "stream",
          "text": [
            "Equal\n"
          ],
          "name": "stdout"
        }
      ]
    },
    {
      "cell_type": "code",
      "metadata": {
        "id": "68-eUAuBMVbj"
      },
      "source": [
        "def compare_to_five(y):\n",
        "    if y > 5:\n",
        "        return \"Greater\"\n",
        "    elif y < 0:\n",
        "        return \"Negative\"\n",
        "    elif y < 5:\n",
        "        return \"Less\"\n",
        "    else:\n",
        "        return \"Equal\""
      ],
      "execution_count": null,
      "outputs": []
    },
    {
      "cell_type": "code",
      "metadata": {
        "id": "VKDTba79MVbj",
        "outputId": "7b63f81f-221c-4fea-d88f-1c16901ac22f"
      },
      "source": [
        "print(compare_to_five(-3))"
      ],
      "execution_count": null,
      "outputs": [
        {
          "output_type": "stream",
          "text": [
            "Negative\n"
          ],
          "name": "stdout"
        }
      ]
    },
    {
      "cell_type": "code",
      "metadata": {
        "id": "Qpu6epWQMVbk"
      },
      "source": [
        "def compare_to_five(y):\n",
        "    if y > 5:\n",
        "        return \"Greater\"\n",
        "    elif y < 5:\n",
        "        return \"Less\"\n",
        "    elif y < 0:\n",
        "        return \"Negative\"\n",
        "    else:\n",
        "        return \"Equal\""
      ],
      "execution_count": null,
      "outputs": []
    },
    {
      "cell_type": "code",
      "metadata": {
        "id": "ypZgQkNiMVbl",
        "outputId": "e9edf62c-a29d-42fb-dd6e-c3595ba33542"
      },
      "source": [
        "print(compare_to_five(-3))"
      ],
      "execution_count": null,
      "outputs": [
        {
          "output_type": "stream",
          "text": [
            "Less\n"
          ],
          "name": "stdout"
        }
      ]
    },
    {
      "cell_type": "code",
      "metadata": {
        "id": "WxEY4_ewMVbl",
        "outputId": "5bb33801-ba7b-4a5b-b129-55dd563ae558"
      },
      "source": [
        "x = 2\n",
        "\n",
        "if x > 4:\n",
        "    print(\"Correct\")\n",
        "else:\n",
        "    print(\"Incorrect\")"
      ],
      "execution_count": null,
      "outputs": [
        {
          "output_type": "stream",
          "text": [
            "Incorrect\n"
          ],
          "name": "stdout"
        }
      ]
    },
    {
      "cell_type": "markdown",
      "metadata": {
        "id": "BM_3woB2MVbl"
      },
      "source": [
        "*** Resumindo:\n",
        "\n",
        "- Você sabe mais sobre condicionais em Python (declarações If, Elif e Else)\n",
        "- Sintaxe do Python é crucial para a execução do seu código\n",
        "- A ordem na qual você declara seus comandos tem importância\n"
      ]
    },
    {
      "cell_type": "markdown",
      "metadata": {
        "id": "B1RW-eN8MVbm"
      },
      "source": [
        "06 - Funções do Python\n",
        "\n",
        "\n",
        " - Como definir\n",
        " - Como criar\n",
        " - Criar e Combinar"
      ]
    },
    {
      "cell_type": "code",
      "metadata": {
        "id": "eF6rDvs8MVbn"
      },
      "source": [
        "# def nome_da_função (parâmetros):\n",
        "        corpo da função\n",
        "\n",
        "## excecuta\n",
        "\n",
        "nome_da_função(argumentos):\n",
        "        \n"
      ],
      "execution_count": null,
      "outputs": []
    },
    {
      "cell_type": "code",
      "metadata": {
        "id": "9oL1HHqhMVbp"
      },
      "source": [
        "def simple():\n",
        "    print(\"My first function\")"
      ],
      "execution_count": null,
      "outputs": []
    },
    {
      "cell_type": "code",
      "metadata": {
        "id": "CYl6JZLXMVbp",
        "outputId": "1e6402d1-5db2-40c7-c1b2-20d9b364436f"
      },
      "source": [
        "simple()"
      ],
      "execution_count": null,
      "outputs": [
        {
          "output_type": "stream",
          "text": [
            "My first function\n"
          ],
          "name": "stdout"
        }
      ]
    },
    {
      "cell_type": "code",
      "metadata": {
        "id": "nP2KwrLtMVbq"
      },
      "source": [
        "def plus_ten(a):\n",
        "    return  a + 10"
      ],
      "execution_count": null,
      "outputs": []
    },
    {
      "cell_type": "code",
      "metadata": {
        "id": "Fae9lXFUMVbq",
        "outputId": "0b259a09-3f61-4df3-8c28-8ddde799749b"
      },
      "source": [
        "plus_ten(2)"
      ],
      "execution_count": null,
      "outputs": [
        {
          "output_type": "execute_result",
          "data": {
            "text/plain": [
              "12"
            ]
          },
          "metadata": {
            "tags": []
          },
          "execution_count": 136
        }
      ]
    },
    {
      "cell_type": "code",
      "metadata": {
        "id": "IwLXL3AlMVbr",
        "outputId": "3bd62933-0e94-4363-e67d-a6bb9916fa3d"
      },
      "source": [
        "plus_ten(5)"
      ],
      "execution_count": null,
      "outputs": [
        {
          "output_type": "execute_result",
          "data": {
            "text/plain": [
              "15"
            ]
          },
          "metadata": {
            "tags": []
          },
          "execution_count": 137
        }
      ]
    },
    {
      "cell_type": "code",
      "metadata": {
        "id": "6gVadSJnMVbr"
      },
      "source": [
        "def plus_ten(a):\n",
        "    result = a + 10\n",
        "    return result"
      ],
      "execution_count": null,
      "outputs": []
    },
    {
      "cell_type": "code",
      "metadata": {
        "id": "3MO1_XLEMVbr",
        "outputId": "b2cd41a1-d811-427f-e513-3deaa4d3384f"
      },
      "source": [
        "plus_ten(2)"
      ],
      "execution_count": null,
      "outputs": [
        {
          "output_type": "execute_result",
          "data": {
            "text/plain": [
              "12"
            ]
          },
          "metadata": {
            "tags": []
          },
          "execution_count": 142
        }
      ]
    },
    {
      "cell_type": "markdown",
      "metadata": {
        "id": "nvbBS4EbMVbw"
      },
      "source": [
        "*** Anotação:\n",
        "\n",
        "Print - Não afeta o cálculo do resultado\n",
        "\n",
        "Return - Não visualiza a saída, especifica o que uma dada função supostamente deve retornar\n"
      ]
    },
    {
      "cell_type": "code",
      "metadata": {
        "id": "7R7F3AJ-MVbw"
      },
      "source": [
        "def plus_ten(a):\n",
        "    result = a + 10\n",
        "    return 'Outcome:'\n",
        "    return result"
      ],
      "execution_count": null,
      "outputs": []
    },
    {
      "cell_type": "code",
      "metadata": {
        "id": "KejJRnvWMVbw",
        "outputId": "dcc055d7-c18b-4aab-9387-910d0f3ff5c6"
      },
      "source": [
        "plus_ten(2)"
      ],
      "execution_count": null,
      "outputs": [
        {
          "output_type": "execute_result",
          "data": {
            "text/plain": [
              "'Outcome:'"
            ]
          },
          "metadata": {
            "tags": []
          },
          "execution_count": 144
        }
      ]
    },
    {
      "cell_type": "code",
      "metadata": {
        "id": "-6X_X8fAMVbx"
      },
      "source": [
        "def plus_ten(a):\n",
        "    result = a + 10\n",
        "    print('Outcome:')\n",
        "    return result"
      ],
      "execution_count": null,
      "outputs": []
    },
    {
      "cell_type": "code",
      "metadata": {
        "id": "uhYhPMAOMVbx",
        "outputId": "dc25d9c7-ea34-459d-968b-a61fa01739cd"
      },
      "source": [
        "plus_ten(2)"
      ],
      "execution_count": null,
      "outputs": [
        {
          "output_type": "stream",
          "text": [
            "Outcome:\n"
          ],
          "name": "stdout"
        },
        {
          "output_type": "execute_result",
          "data": {
            "text/plain": [
              "12"
            ]
          },
          "metadata": {
            "tags": []
          },
          "execution_count": 146
        }
      ]
    },
    {
      "cell_type": "markdown",
      "metadata": {
        "id": "MCc6WCGzMVbx"
      },
      "source": [
        "** Usando uma função em outra função"
      ]
    },
    {
      "cell_type": "code",
      "metadata": {
        "id": "E-OdVKCUMVbx"
      },
      "source": [
        "def wage(w_hours):\n",
        "    return w_hours * 25\n",
        "def with_bonus(w_hours):\n",
        "    return wage(w_hours) + 50"
      ],
      "execution_count": null,
      "outputs": []
    },
    {
      "cell_type": "code",
      "metadata": {
        "id": "5xfdEggdMVby",
        "outputId": "ac3fe073-5009-45c4-817c-41ddffbd2eda"
      },
      "source": [
        "wage(8)"
      ],
      "execution_count": null,
      "outputs": [
        {
          "output_type": "execute_result",
          "data": {
            "text/plain": [
              "200"
            ]
          },
          "metadata": {
            "tags": []
          },
          "execution_count": 148
        }
      ]
    },
    {
      "cell_type": "code",
      "metadata": {
        "id": "G75LtWfdMVby",
        "outputId": "a5cf86b8-0396-45fe-d0cb-125fd81abffa"
      },
      "source": [
        "wage(8), with_bonus(8)"
      ],
      "execution_count": null,
      "outputs": [
        {
          "output_type": "execute_result",
          "data": {
            "text/plain": [
              "(200, 250)"
            ]
          },
          "metadata": {
            "tags": []
          },
          "execution_count": 149
        }
      ]
    },
    {
      "cell_type": "markdown",
      "metadata": {
        "id": "HM7BmwjzMVby"
      },
      "source": [
        "** Combinando condições e funções"
      ]
    },
    {
      "cell_type": "code",
      "metadata": {
        "id": "PDB4CRGqMVbz"
      },
      "source": [
        "def add_10(m):\n",
        "    if m >= 100:\n",
        "        m = m + 10\n",
        "        return m\n",
        "    else:\n",
        "        return \"Save more!\""
      ],
      "execution_count": null,
      "outputs": []
    },
    {
      "cell_type": "code",
      "metadata": {
        "id": "P0Pd9xp3MVbz",
        "outputId": "3e8f2c91-5817-4d2d-9e14-cd771d9a3e60"
      },
      "source": [
        "add_10(110)"
      ],
      "execution_count": null,
      "outputs": [
        {
          "output_type": "execute_result",
          "data": {
            "text/plain": [
              "120"
            ]
          },
          "metadata": {
            "tags": []
          },
          "execution_count": 151
        }
      ]
    },
    {
      "cell_type": "code",
      "metadata": {
        "id": "FhgfWdtXMVb0",
        "outputId": "7fbba06b-753a-4e5d-d4f7-fbd1a153ad5b"
      },
      "source": [
        "add_10(50)"
      ],
      "execution_count": null,
      "outputs": [
        {
          "output_type": "execute_result",
          "data": {
            "text/plain": [
              "'Save more!'"
            ]
          },
          "metadata": {
            "tags": []
          },
          "execution_count": 152
        }
      ]
    },
    {
      "cell_type": "markdown",
      "metadata": {
        "id": "msn62syNOYFK"
      },
      "source": [
        " ** Criando Funções contendo Alguns Argumentos\n"
      ]
    },
    {
      "cell_type": "code",
      "metadata": {
        "id": "N9n-QnuLMVb0"
      },
      "source": [
        "def subtract_bc(a,b,c):\n",
        "    result = a-b*c\n",
        "    print('Parameter a equals', a)\n",
        "    print('Parameter b equals', b)\n",
        "    print('Parameter c equals', c)\n",
        "    return result"
      ],
      "execution_count": null,
      "outputs": []
    },
    {
      "cell_type": "code",
      "metadata": {
        "id": "5mIHohxtMVb1",
        "outputId": "af531ee4-7967-48bf-8cd5-fda8533c784e"
      },
      "source": [
        "subtract_bc(10,3,2)"
      ],
      "execution_count": null,
      "outputs": [
        {
          "output_type": "stream",
          "text": [
            "Parameter a equals 10\n",
            "Parameter b equals 3\n",
            "Parameter c equals 2\n"
          ],
          "name": "stdout"
        },
        {
          "output_type": "execute_result",
          "data": {
            "text/plain": [
              "4"
            ]
          },
          "metadata": {
            "tags": []
          },
          "execution_count": 155
        }
      ]
    },
    {
      "cell_type": "code",
      "metadata": {
        "id": "H9MEFXWGMVb1",
        "outputId": "c97cb9aa-2fa3-473b-a9e6-9f141512010d"
      },
      "source": [
        "subtract_bc(b=3,a=10,c=2)"
      ],
      "execution_count": null,
      "outputs": [
        {
          "output_type": "stream",
          "text": [
            "Parameter a equals 10\n",
            "Parameter b equals 3\n",
            "Parameter c equals 2\n"
          ],
          "name": "stdout"
        },
        {
          "output_type": "execute_result",
          "data": {
            "text/plain": [
              "4"
            ]
          },
          "metadata": {
            "tags": []
          },
          "execution_count": 156
        }
      ]
    },
    {
      "cell_type": "markdown",
      "metadata": {
        "id": "sLS2a6iZOh-t"
      },
      "source": [
        "** Funções nativas podem ser aplicadas diretamente\n",
        "\n",
        "type() obtem o tipo de variável que você usa como argumento\n",
        "\n",
        "int(), float(), str() transforma os argumentos em um tipo inteiro, tipo float(decimal), e em tipo string, respectivamente\n"
      ]
    },
    {
      "cell_type": "code",
      "metadata": {
        "id": "4DGKrj5GMVb2",
        "outputId": "d1f67a54-8393-4546-9ce9-434a3bc5d3af"
      },
      "source": [
        "type(10)"
      ],
      "execution_count": null,
      "outputs": [
        {
          "output_type": "execute_result",
          "data": {
            "text/plain": [
              "int"
            ]
          },
          "metadata": {
            "tags": []
          },
          "execution_count": 158
        }
      ]
    },
    {
      "cell_type": "code",
      "metadata": {
        "id": "Z9Wg_iEgMVb3",
        "outputId": "5503b727-edf1-4ca1-f195-c714498d52eb"
      },
      "source": [
        "int(5.0)"
      ],
      "execution_count": null,
      "outputs": [
        {
          "output_type": "execute_result",
          "data": {
            "text/plain": [
              "5"
            ]
          },
          "metadata": {
            "tags": []
          },
          "execution_count": 159
        }
      ]
    },
    {
      "cell_type": "code",
      "metadata": {
        "id": "5xCmlA8UMVb3",
        "outputId": "3b6c8b26-ef03-458b-924d-926cd278f7c3"
      },
      "source": [
        "float(3)"
      ],
      "execution_count": null,
      "outputs": [
        {
          "output_type": "execute_result",
          "data": {
            "text/plain": [
              "3.0"
            ]
          },
          "metadata": {
            "tags": []
          },
          "execution_count": 160
        }
      ]
    },
    {
      "cell_type": "code",
      "metadata": {
        "id": "zbXK1L-xMVb3",
        "outputId": "8bcaf6eb-934c-44a3-c224-16d6212eeaf0"
      },
      "source": [
        "str(500)"
      ],
      "execution_count": null,
      "outputs": [
        {
          "output_type": "execute_result",
          "data": {
            "text/plain": [
              "'500'"
            ]
          },
          "metadata": {
            "tags": []
          },
          "execution_count": 161
        }
      ]
    },
    {
      "cell_type": "markdown",
      "metadata": {
        "id": "Km--WUooMVb4"
      },
      "source": [
        "** Outras funções nativas\n",
        "\n",
        "max() retorna o maior valor de sequência de numeros\n",
        "\n",
        "min() retorna o menor valor de uma sequência de numeros\n",
        "\n",
        "abs() permite que você obtenha o valor absoluto do seu argumento\n",
        "\n",
        "\n",
        "round(x,y) retorna o float do argumento (x), arredondado para um numero especifico de digitos (y) depois do ponto decimal\n",
        "\n",
        "pow(x,y) retorna x elevado à potencia de y\n",
        "\n"
      ]
    },
    {
      "cell_type": "code",
      "metadata": {
        "id": "tYdQRu_tMVb4",
        "outputId": "3e1bb7b6-341e-457c-dc5a-41d4f4010ecc"
      },
      "source": [
        "max(10,20,30)"
      ],
      "execution_count": null,
      "outputs": [
        {
          "output_type": "execute_result",
          "data": {
            "text/plain": [
              "30"
            ]
          },
          "metadata": {
            "tags": []
          },
          "execution_count": 163
        }
      ]
    },
    {
      "cell_type": "code",
      "metadata": {
        "id": "vu3E2QqBMVb5",
        "outputId": "176dd104-8e46-47f0-f5d0-cf4620feca66"
      },
      "source": [
        "min(10,20,30)"
      ],
      "execution_count": null,
      "outputs": [
        {
          "output_type": "execute_result",
          "data": {
            "text/plain": [
              "10"
            ]
          },
          "metadata": {
            "tags": []
          },
          "execution_count": 164
        }
      ]
    },
    {
      "cell_type": "code",
      "metadata": {
        "id": "l7Hy2h95MVb5",
        "outputId": "b9911528-2e01-4a67-f05d-a92aa3802a54"
      },
      "source": [
        "z = -20\n",
        "abs(z)"
      ],
      "execution_count": null,
      "outputs": [
        {
          "output_type": "execute_result",
          "data": {
            "text/plain": [
              "20"
            ]
          },
          "metadata": {
            "tags": []
          },
          "execution_count": 165
        }
      ]
    },
    {
      "cell_type": "code",
      "metadata": {
        "id": "hMMpxDcvMVb5"
      },
      "source": [
        "list_1 = [1,2,3,4]"
      ],
      "execution_count": null,
      "outputs": []
    },
    {
      "cell_type": "code",
      "metadata": {
        "id": "0B_wlnfSMVb6",
        "outputId": "546d8d81-84d3-48c9-df43-b14c8c35c915"
      },
      "source": [
        "sum(list_1)"
      ],
      "execution_count": null,
      "outputs": [
        {
          "output_type": "execute_result",
          "data": {
            "text/plain": [
              "10"
            ]
          },
          "metadata": {
            "tags": []
          },
          "execution_count": 171
        }
      ]
    },
    {
      "cell_type": "code",
      "metadata": {
        "id": "Q0Fu-oF3MVb6",
        "outputId": "75a4fb0b-56bf-4912-e2fc-476f0f8cbcc1"
      },
      "source": [
        "round(3.555,2)"
      ],
      "execution_count": null,
      "outputs": [
        {
          "output_type": "execute_result",
          "data": {
            "text/plain": [
              "3.56"
            ]
          },
          "metadata": {
            "tags": []
          },
          "execution_count": 172
        }
      ]
    },
    {
      "cell_type": "code",
      "metadata": {
        "id": "2cRZU1wiMVb7",
        "outputId": "a63a0daa-9e47-4806-bf76-565af1bfd903"
      },
      "source": [
        "round(3.2)"
      ],
      "execution_count": null,
      "outputs": [
        {
          "output_type": "execute_result",
          "data": {
            "text/plain": [
              "3"
            ]
          },
          "metadata": {
            "tags": []
          },
          "execution_count": 173
        }
      ]
    },
    {
      "cell_type": "code",
      "metadata": {
        "id": "WpGb8iTlMVb7",
        "outputId": "ea1ab77b-42c9-477e-f959-885f3457549a"
      },
      "source": [
        "2 ** 10"
      ],
      "execution_count": null,
      "outputs": [
        {
          "output_type": "execute_result",
          "data": {
            "text/plain": [
              "1024"
            ]
          },
          "metadata": {
            "tags": []
          },
          "execution_count": 174
        }
      ]
    },
    {
      "cell_type": "code",
      "metadata": {
        "id": "r_zACmMaMVb7",
        "outputId": "4dc84aa2-edfb-401c-b2ac-ad0735f0a027"
      },
      "source": [
        "pow(2,10)"
      ],
      "execution_count": null,
      "outputs": [
        {
          "output_type": "execute_result",
          "data": {
            "text/plain": [
              "1024"
            ]
          },
          "metadata": {
            "tags": []
          },
          "execution_count": 175
        }
      ]
    },
    {
      "cell_type": "code",
      "metadata": {
        "id": "NNg7aLzTMVb8",
        "outputId": "5b8d17e1-6ada-4d1b-eb8d-d1d0167f3fc5"
      },
      "source": [
        "len('Mathematics')"
      ],
      "execution_count": null,
      "outputs": [
        {
          "output_type": "execute_result",
          "data": {
            "text/plain": [
              "11"
            ]
          },
          "metadata": {
            "tags": []
          },
          "execution_count": 176
        }
      ]
    },
    {
      "cell_type": "markdown",
      "metadata": {
        "id": "i5MKwaedMVb9"
      },
      "source": [
        "*** Resumindo: O que vimos até agora.\n",
        "\n",
        "- Sintaxe do Python\n",
        "- Declarações IF, Elif e Else\n",
        "- Funções\n",
        "- Novidade: Listas\n",
        "\n",
        "Uma lista é um tipo de sequência de dados"
      ]
    },
    {
      "cell_type": "markdown",
      "metadata": {
        "id": "tiSOvZGKOt0I"
      },
      "source": [
        "07 - Sequências do Python\n",
        "\n",
        "** Lista\n",
        "\n",
        "Lista é um tipo de sequência de dados"
      ]
    },
    {
      "cell_type": "code",
      "metadata": {
        "id": "OsGDdbRoMVb9",
        "outputId": "959edc44-8199-4959-b3e8-a8ee51b898ac"
      },
      "source": [
        "Participants = ['John','Leila','Gregory','Cate']\n",
        "Participants"
      ],
      "execution_count": null,
      "outputs": [
        {
          "output_type": "execute_result",
          "data": {
            "text/plain": [
              "['John', 'Leila', 'Gregory', 'Cate']"
            ]
          },
          "metadata": {
            "tags": []
          },
          "execution_count": 177
        }
      ]
    },
    {
      "cell_type": "code",
      "metadata": {
        "id": "NfCx0b8nMVb-",
        "outputId": "be880cb6-7e46-4d0a-9737-23092b4a8d2d"
      },
      "source": [
        "Participants[1]"
      ],
      "execution_count": null,
      "outputs": [
        {
          "output_type": "execute_result",
          "data": {
            "text/plain": [
              "'Leila'"
            ]
          },
          "metadata": {
            "tags": []
          },
          "execution_count": 180
        }
      ]
    },
    {
      "cell_type": "code",
      "metadata": {
        "id": "YsdNdhWFMVb-",
        "outputId": "737e5b8d-0772-489b-ec07-4dac66aab0fd"
      },
      "source": [
        "Participants[-1]"
      ],
      "execution_count": null,
      "outputs": [
        {
          "output_type": "execute_result",
          "data": {
            "text/plain": [
              "'Cate'"
            ]
          },
          "metadata": {
            "tags": []
          },
          "execution_count": 181
        }
      ]
    },
    {
      "cell_type": "code",
      "metadata": {
        "id": "IVJtpn_VMVb-",
        "outputId": "e1835813-fbfa-4172-9ac0-14e925026f26"
      },
      "source": [
        "Participants[-2]"
      ],
      "execution_count": null,
      "outputs": [
        {
          "output_type": "execute_result",
          "data": {
            "text/plain": [
              "'Gregory'"
            ]
          },
          "metadata": {
            "tags": []
          },
          "execution_count": 182
        }
      ]
    },
    {
      "cell_type": "code",
      "metadata": {
        "id": "5aij_cBrMVb_",
        "outputId": "3069b28b-233c-4163-a4a2-643a0855863e"
      },
      "source": [
        "Participants[3] = 'Maria'\n",
        "Participants"
      ],
      "execution_count": null,
      "outputs": [
        {
          "output_type": "execute_result",
          "data": {
            "text/plain": [
              "['John', 'Leila', 'Gregory', 'Maria']"
            ]
          },
          "metadata": {
            "tags": []
          },
          "execution_count": 185
        }
      ]
    },
    {
      "cell_type": "code",
      "metadata": {
        "id": "T4OCbOeGMVb_",
        "outputId": "a7532020-db48-4991-e616-d9f01a8b3ad4"
      },
      "source": [
        "del Participants[2]\n",
        "Participants"
      ],
      "execution_count": null,
      "outputs": [
        {
          "output_type": "execute_result",
          "data": {
            "text/plain": [
              "['John', 'Leila', 'Maria']"
            ]
          },
          "metadata": {
            "tags": []
          },
          "execution_count": 186
        }
      ]
    },
    {
      "cell_type": "code",
      "metadata": {
        "id": "bMUA-s-uMVcA",
        "outputId": "d0a282d6-12ab-4efc-cd44-bd6a8baf879c"
      },
      "source": [
        "Participants[2]"
      ],
      "execution_count": null,
      "outputs": [
        {
          "output_type": "execute_result",
          "data": {
            "text/plain": [
              "'Maria'"
            ]
          },
          "metadata": {
            "tags": []
          },
          "execution_count": 187
        }
      ]
    },
    {
      "cell_type": "markdown",
      "metadata": {
        "id": "pJTU5bIwMVcA"
      },
      "source": [
        "** Adicionar um novo objeto\n",
        "\n",
        "objeto. metodo()\n",
        "Participants.append()\n",
        "\n",
        "Particpants.extend()\n"
      ]
    },
    {
      "cell_type": "code",
      "metadata": {
        "id": "DPX0KWl3MVcA",
        "outputId": "36736a43-8889-4110-dc85-b6995abe788e"
      },
      "source": [
        "Participants.append(\"Dwayne\")\n",
        "Participants"
      ],
      "execution_count": null,
      "outputs": [
        {
          "output_type": "execute_result",
          "data": {
            "text/plain": [
              "['John',\n",
              " 'Leila',\n",
              " 'Maria',\n",
              " 'Dwayne',\n",
              " 'Dwayne',\n",
              " 'Dwayne',\n",
              " 'George',\n",
              " 'Catherine',\n",
              " 'Dwayne',\n",
              " 'Dwayne']"
            ]
          },
          "metadata": {
            "tags": []
          },
          "execution_count": 195
        }
      ]
    },
    {
      "cell_type": "code",
      "metadata": {
        "id": "eMBJ3zgGMVcB",
        "outputId": "077081ce-356a-48a9-ce72-f59c4db7a918"
      },
      "source": [
        "Participants.extend(['George','Catherine'])\n",
        "Participants"
      ],
      "execution_count": null,
      "outputs": [
        {
          "output_type": "execute_result",
          "data": {
            "text/plain": [
              "['John',\n",
              " 'Leila',\n",
              " 'Maria',\n",
              " 'Dwayne',\n",
              " 'Dwayne',\n",
              " 'Dwayne',\n",
              " 'George',\n",
              " 'Catherine',\n",
              " 'Dwayne',\n",
              " 'Dwayne',\n",
              " 'George',\n",
              " 'Catherine']"
            ]
          },
          "metadata": {
            "tags": []
          },
          "execution_count": 196
        }
      ]
    },
    {
      "cell_type": "code",
      "metadata": {
        "id": "x0Om1LpnMVcB"
      },
      "source": [
        "del Participants[4]"
      ],
      "execution_count": null,
      "outputs": []
    },
    {
      "cell_type": "code",
      "metadata": {
        "id": "WAaWYVqHMVcB"
      },
      "source": [
        "del Participants[4]"
      ],
      "execution_count": null,
      "outputs": []
    },
    {
      "cell_type": "code",
      "metadata": {
        "id": "aNtnNiL_MVcC",
        "outputId": "25d71df3-38ec-4ab1-fbd7-52d33e7b3e7b"
      },
      "source": [
        "Participants"
      ],
      "execution_count": null,
      "outputs": [
        {
          "output_type": "execute_result",
          "data": {
            "text/plain": [
              "['John', 'Leila', 'Maria', 'Dwayne']"
            ]
          },
          "metadata": {
            "tags": []
          },
          "execution_count": 211
        }
      ]
    },
    {
      "cell_type": "code",
      "metadata": {
        "id": "7h-BfYDmMVcC",
        "outputId": "c3a958ff-de05-48c0-aee2-d4bf26ac588e"
      },
      "source": [
        "Participants.extend(['George','Catherine'])\n",
        "Participants"
      ],
      "execution_count": null,
      "outputs": [
        {
          "output_type": "execute_result",
          "data": {
            "text/plain": [
              "['John', 'Leila', 'Maria', 'Dwayne', 'George', 'Catherine']"
            ]
          },
          "metadata": {
            "tags": []
          },
          "execution_count": 212
        }
      ]
    },
    {
      "cell_type": "code",
      "metadata": {
        "id": "F-8l1yKaMVcD",
        "outputId": "db0a4537-b2fa-47ed-8f21-4e03af6e8858"
      },
      "source": [
        "print ('The first participants is ' + Participants[0] + '.')"
      ],
      "execution_count": null,
      "outputs": [
        {
          "output_type": "stream",
          "text": [
            "The first participants is John.\n"
          ],
          "name": "stdout"
        }
      ]
    },
    {
      "cell_type": "code",
      "metadata": {
        "id": "kVP7NTK8MVcE",
        "outputId": "5a8133b8-01b5-4d44-d457-7d8004ac1b7c"
      },
      "source": [
        "len('Dolphin')"
      ],
      "execution_count": null,
      "outputs": [
        {
          "output_type": "execute_result",
          "data": {
            "text/plain": [
              "7"
            ]
          },
          "metadata": {
            "tags": []
          },
          "execution_count": 218
        }
      ]
    },
    {
      "cell_type": "code",
      "metadata": {
        "id": "NjapVZc6MVcE",
        "outputId": "805c9e9a-bc84-4df4-b5f0-7632721a668d"
      },
      "source": [
        "len(Participants)"
      ],
      "execution_count": null,
      "outputs": [
        {
          "output_type": "execute_result",
          "data": {
            "text/plain": [
              "6"
            ]
          },
          "metadata": {
            "tags": []
          },
          "execution_count": 219
        }
      ]
    },
    {
      "cell_type": "code",
      "metadata": {
        "id": "Ut_z0mqVMVcF"
      },
      "source": [
        "Participants = ['John', 'Leila', 'Maria', 'Dwayne', 'George', 'Catherine']"
      ],
      "execution_count": null,
      "outputs": []
    },
    {
      "cell_type": "code",
      "metadata": {
        "id": "SzDhMsNXMVcF",
        "outputId": "d707d85f-b128-42dd-b134-297e45d9d39e"
      },
      "source": [
        "Participants"
      ],
      "execution_count": null,
      "outputs": [
        {
          "output_type": "execute_result",
          "data": {
            "text/plain": [
              "['John', 'Leila', 'Maria', 'Dwayne', 'George', 'Catherine']"
            ]
          },
          "metadata": {
            "tags": []
          },
          "execution_count": 222
        }
      ]
    },
    {
      "cell_type": "code",
      "metadata": {
        "id": "ZkK9tJn_MVcG",
        "outputId": "e8bb97df-d505-4ac8-c49e-b00eba1cd902"
      },
      "source": [
        "Participants[1:3]"
      ],
      "execution_count": null,
      "outputs": [
        {
          "output_type": "execute_result",
          "data": {
            "text/plain": [
              "['Leila', 'Maria']"
            ]
          },
          "metadata": {
            "tags": []
          },
          "execution_count": 223
        }
      ]
    },
    {
      "cell_type": "code",
      "metadata": {
        "id": "YWcudpo_MVcH",
        "outputId": "7c22ad36-1e59-4874-a166-49d61b1fa0db"
      },
      "source": [
        "Participants[:2]"
      ],
      "execution_count": null,
      "outputs": [
        {
          "output_type": "execute_result",
          "data": {
            "text/plain": [
              "['John', 'Leila']"
            ]
          },
          "metadata": {
            "tags": []
          },
          "execution_count": 224
        }
      ]
    },
    {
      "cell_type": "code",
      "metadata": {
        "id": "-YdCvaQyMVcH",
        "outputId": "7647b5d0-8f9f-4c82-a2d6-c29a39f83026"
      },
      "source": [
        "Participants[4:]"
      ],
      "execution_count": null,
      "outputs": [
        {
          "output_type": "execute_result",
          "data": {
            "text/plain": [
              "['George', 'Catherine']"
            ]
          },
          "metadata": {
            "tags": []
          },
          "execution_count": 225
        }
      ]
    },
    {
      "cell_type": "code",
      "metadata": {
        "id": "ELed5FyKMVcI",
        "outputId": "8d726a92-e73e-4dcb-fd2a-0fa33e1a3fd2"
      },
      "source": [
        "Participants[-2:]"
      ],
      "execution_count": null,
      "outputs": [
        {
          "output_type": "execute_result",
          "data": {
            "text/plain": [
              "['George', 'Catherine']"
            ]
          },
          "metadata": {
            "tags": []
          },
          "execution_count": 226
        }
      ]
    },
    {
      "cell_type": "code",
      "metadata": {
        "id": "nQci_9wgMVcI"
      },
      "source": [
        "Participants = ['John', 'Peter', 'Maria','Leila', 'Dwayne', 'Catherine']"
      ],
      "execution_count": null,
      "outputs": []
    },
    {
      "cell_type": "code",
      "metadata": {
        "id": "XkCwYp35MVcJ",
        "outputId": "d077a441-17db-4966-9e8d-440ae4d477f5"
      },
      "source": [
        "Participants.index(\"Maria\")"
      ],
      "execution_count": null,
      "outputs": [
        {
          "output_type": "execute_result",
          "data": {
            "text/plain": [
              "2"
            ]
          },
          "metadata": {
            "tags": []
          },
          "execution_count": 228
        }
      ]
    },
    {
      "cell_type": "code",
      "metadata": {
        "id": "LvttSq9IMVcJ",
        "outputId": "87cc921b-95a0-4886-92b0-9e4396404d92"
      },
      "source": [
        "Newcomers = ['Joshua', 'Brittany']\n",
        "Newcomers"
      ],
      "execution_count": null,
      "outputs": [
        {
          "output_type": "execute_result",
          "data": {
            "text/plain": [
              "['Joshua', 'Brittany']"
            ]
          },
          "metadata": {
            "tags": []
          },
          "execution_count": 231
        }
      ]
    },
    {
      "cell_type": "code",
      "metadata": {
        "id": "CxO0Loi3MVcK",
        "outputId": "ad896b5a-6f4d-477e-e5f0-12d65b32010e"
      },
      "source": [
        "Bigger_List = [Participants, Newcomers]\n",
        "Bigger_List"
      ],
      "execution_count": null,
      "outputs": [
        {
          "output_type": "execute_result",
          "data": {
            "text/plain": [
              "[['John', 'Peter', 'Maria', 'Leila', 'Dwayne', 'Catherine'],\n",
              " ['Joshua', 'Brittany']]"
            ]
          },
          "metadata": {
            "tags": []
          },
          "execution_count": 232
        }
      ]
    },
    {
      "cell_type": "code",
      "metadata": {
        "id": "wbuy6vsaMVcK",
        "outputId": "16c196fc-f0d1-40a2-bc9d-05b065c0b94c"
      },
      "source": [
        "Participants.sort()\n",
        "Participants"
      ],
      "execution_count": null,
      "outputs": [
        {
          "output_type": "execute_result",
          "data": {
            "text/plain": [
              "['Catherine', 'Dwayne', 'John', 'Leila', 'Maria', 'Peter']"
            ]
          },
          "metadata": {
            "tags": []
          },
          "execution_count": 233
        }
      ]
    },
    {
      "cell_type": "code",
      "metadata": {
        "id": "LXSVEMgEMVcL",
        "outputId": "ffc94f7d-429d-4a57-ba7f-4021b1e5e7db"
      },
      "source": [
        "Participants.sort(reverse=True)\n",
        "Participants"
      ],
      "execution_count": null,
      "outputs": [
        {
          "output_type": "execute_result",
          "data": {
            "text/plain": [
              "['Peter', 'Maria', 'Leila', 'John', 'Dwayne', 'Catherine']"
            ]
          },
          "metadata": {
            "tags": []
          },
          "execution_count": 235
        }
      ]
    },
    {
      "cell_type": "code",
      "metadata": {
        "id": "guY6d54lMVcL",
        "outputId": "9b6391e4-1e37-405f-b28d-e4439be80ee9"
      },
      "source": [
        "Numbers = [1,2,3,4,5]\n",
        "Numbers.sort()\n",
        "Numbers"
      ],
      "execution_count": null,
      "outputs": [
        {
          "output_type": "execute_result",
          "data": {
            "text/plain": [
              "[1, 2, 3, 4, 5]"
            ]
          },
          "metadata": {
            "tags": []
          },
          "execution_count": 237
        }
      ]
    },
    {
      "cell_type": "code",
      "metadata": {
        "id": "iOjcKom7MVcM",
        "outputId": "3d5f0e91-03f3-491f-a80d-489519e6d68e"
      },
      "source": [
        "Numbers.sort(reverse=True)\n",
        "Numbers"
      ],
      "execution_count": null,
      "outputs": [
        {
          "output_type": "execute_result",
          "data": {
            "text/plain": [
              "[5, 4, 3, 2, 1]"
            ]
          },
          "metadata": {
            "tags": []
          },
          "execution_count": 238
        }
      ]
    },
    {
      "cell_type": "markdown",
      "metadata": {
        "id": "OXUX2ytOMVcM"
      },
      "source": [
        "** Tuplas\n",
        "\n",
        "Tuplas são um tipo de sequência de dados\n",
        "\n",
        "Tuplas são imutáveis"
      ]
    },
    {
      "cell_type": "code",
      "metadata": {
        "id": "sGCkEHV8MVcN",
        "outputId": "eb4971db-497f-4124-dbad-8e419a693883"
      },
      "source": [
        "x = (40,41,42)\n",
        "x"
      ],
      "execution_count": null,
      "outputs": [
        {
          "output_type": "execute_result",
          "data": {
            "text/plain": [
              "(40, 41, 42)"
            ]
          },
          "metadata": {
            "tags": []
          },
          "execution_count": 239
        }
      ]
    },
    {
      "cell_type": "code",
      "metadata": {
        "id": "G04ghPx0MVcN",
        "outputId": "59b9c3ca-6099-4356-dc49-06d8e0358643"
      },
      "source": [
        "y = 50,51,52\n",
        "y"
      ],
      "execution_count": null,
      "outputs": [
        {
          "output_type": "execute_result",
          "data": {
            "text/plain": [
              "(50, 51, 52)"
            ]
          },
          "metadata": {
            "tags": []
          },
          "execution_count": 240
        }
      ]
    },
    {
      "cell_type": "code",
      "metadata": {
        "id": "3y7w9O-3MVcN"
      },
      "source": [
        "a,b,c = 1,4,6"
      ],
      "execution_count": null,
      "outputs": []
    },
    {
      "cell_type": "code",
      "metadata": {
        "id": "TKXv5x_6MVcO",
        "outputId": "20726682-67c9-4ad5-c0db-61aa8fd4d533"
      },
      "source": [
        "c"
      ],
      "execution_count": null,
      "outputs": [
        {
          "output_type": "execute_result",
          "data": {
            "text/plain": [
              "6"
            ]
          },
          "metadata": {
            "tags": []
          },
          "execution_count": 242
        }
      ]
    },
    {
      "cell_type": "code",
      "metadata": {
        "id": "gnVjFLkvMVcO",
        "outputId": "3e3f4a20-3322-4115-d1e4-98c362a956ff"
      },
      "source": [
        "x[0]"
      ],
      "execution_count": null,
      "outputs": [
        {
          "output_type": "execute_result",
          "data": {
            "text/plain": [
              "40"
            ]
          },
          "metadata": {
            "tags": []
          },
          "execution_count": 243
        }
      ]
    },
    {
      "cell_type": "code",
      "metadata": {
        "id": "XXQKQCx7MVcO"
      },
      "source": [
        "List = [(40,41,42),(50,51,52)]"
      ],
      "execution_count": null,
      "outputs": []
    },
    {
      "cell_type": "code",
      "metadata": {
        "id": "zkyEycxTMVcO",
        "outputId": "b3f333de-bf9a-4f88-b99b-af64c0171534"
      },
      "source": [
        "List"
      ],
      "execution_count": null,
      "outputs": [
        {
          "output_type": "execute_result",
          "data": {
            "text/plain": [
              "[(40, 41, 42), (50, 51, 52)]"
            ]
          },
          "metadata": {
            "tags": []
          },
          "execution_count": 245
        }
      ]
    },
    {
      "cell_type": "code",
      "metadata": {
        "id": "uH43aMweMVcP",
        "outputId": "386568ef-c7cb-4799-f07e-3551c5182c9c"
      },
      "source": [
        "(age, years_of_school) = \"30,17\".split(',')\n",
        "print(age)\n",
        "print(years_of_school)"
      ],
      "execution_count": null,
      "outputs": [
        {
          "output_type": "stream",
          "text": [
            "30\n",
            "17\n"
          ],
          "name": "stdout"
        }
      ]
    },
    {
      "cell_type": "code",
      "metadata": {
        "id": "N2RIxQsRMVcP",
        "outputId": "fbc71d64-60b5-47c7-e92f-9c98bbe2f506"
      },
      "source": [
        "def square_info(x):\n",
        "    A = x ** 2\n",
        "    P = 4 * x\n",
        "    print(\"Area and Perimeter:\")\n",
        "    return A,P\n",
        "\n",
        "square_info(3)"
      ],
      "execution_count": null,
      "outputs": [
        {
          "output_type": "stream",
          "text": [
            "Area and Perimeter:\n"
          ],
          "name": "stdout"
        },
        {
          "output_type": "execute_result",
          "data": {
            "text/plain": [
              "(9, 12)"
            ]
          },
          "metadata": {
            "tags": []
          },
          "execution_count": 248
        }
      ]
    },
    {
      "cell_type": "markdown",
      "metadata": {
        "id": "oAOiAg1tMVcP"
      },
      "source": [
        "** Dicionários\n",
        "\n",
        "Dicionários representam outro meio de armazenar dados\n"
      ]
    },
    {
      "cell_type": "code",
      "metadata": {
        "id": "psqg3WU-MVcP"
      },
      "source": [
        "dict = {'k1': \"cat\", 'k2': \"dog\", 'k3': \"mouse\", 'k4': \"fish\"}"
      ],
      "execution_count": null,
      "outputs": []
    },
    {
      "cell_type": "code",
      "metadata": {
        "id": "St6bYr-GMVcQ",
        "outputId": "17e58252-4f73-4e24-ab7e-055c6c2ff2e8"
      },
      "source": [
        "dict['k1']"
      ],
      "execution_count": null,
      "outputs": [
        {
          "output_type": "execute_result",
          "data": {
            "text/plain": [
              "'cat'"
            ]
          },
          "metadata": {
            "tags": []
          },
          "execution_count": 253
        }
      ]
    },
    {
      "cell_type": "code",
      "metadata": {
        "id": "WJiQky3ZMVcQ"
      },
      "source": [
        "dict['k5']= \"parrot\""
      ],
      "execution_count": null,
      "outputs": []
    },
    {
      "cell_type": "code",
      "metadata": {
        "id": "X7wQnjpuMVcR",
        "outputId": "f3b63b5d-c8f1-4d87-9c92-aadd48148961"
      },
      "source": [
        "dict"
      ],
      "execution_count": null,
      "outputs": [
        {
          "output_type": "execute_result",
          "data": {
            "text/plain": [
              "{'k1': 'cat', 'k2': 'dog', 'k3': 'mouse', 'k4': 'fish', 'k5': 'parrot'}"
            ]
          },
          "metadata": {
            "tags": []
          },
          "execution_count": 255
        }
      ]
    },
    {
      "cell_type": "code",
      "metadata": {
        "id": "XN9cyPdKMVcR"
      },
      "source": [
        "dep_workers = {'dep_1': 'Peter', 'dep_2':['Jennifer','Michael','Tommy']}"
      ],
      "execution_count": null,
      "outputs": []
    },
    {
      "cell_type": "code",
      "metadata": {
        "id": "woN6ZTlLMVcS",
        "outputId": "cc36b5a7-76c8-44f9-acbf-26bf454095c2"
      },
      "source": [
        "dep_workers['dep_2']"
      ],
      "execution_count": null,
      "outputs": [
        {
          "output_type": "execute_result",
          "data": {
            "text/plain": [
              "['Jennifer', 'Michael', 'Tommy']"
            ]
          },
          "metadata": {
            "tags": []
          },
          "execution_count": 257
        }
      ]
    },
    {
      "cell_type": "code",
      "metadata": {
        "id": "XliLDddNMVcS"
      },
      "source": [
        "Team = {}\n",
        "Team['Point Guard'] = 'Dirk'\n",
        "Team['Shooting Guard'] = 'A1'\n",
        "Team['Small Forward'] = 'Sean'\n",
        "Team['Power Forward'] = 'Alexander'\n",
        "Team['Center'] = 'Hector'"
      ],
      "execution_count": null,
      "outputs": []
    },
    {
      "cell_type": "code",
      "metadata": {
        "id": "MbhnVWBuMVcS",
        "outputId": "2405af97-a06e-43a7-f1cf-9014cb85405c"
      },
      "source": [
        "print(Team)"
      ],
      "execution_count": null,
      "outputs": [
        {
          "output_type": "stream",
          "text": [
            "{'Point Guard': 'Dirk', 'Shooting Guard': 'A1', 'Small Forward': 'Sean', 'Power Forward': 'Alexander', 'Center': 'Hector'}\n"
          ],
          "name": "stdout"
        }
      ]
    },
    {
      "cell_type": "code",
      "metadata": {
        "id": "4MQL28HpMVcT",
        "outputId": "e649203b-5512-4c11-b7d3-e7c1300e59e8"
      },
      "source": [
        "print(Team['Center'])"
      ],
      "execution_count": null,
      "outputs": [
        {
          "output_type": "stream",
          "text": [
            "Hector\n"
          ],
          "name": "stdout"
        }
      ]
    },
    {
      "cell_type": "code",
      "metadata": {
        "id": "BtsAo4GSMVcW",
        "outputId": "03b1c97b-79b0-4b27-ace4-dba063c63f5e"
      },
      "source": [
        "print(Team.get('Small Forward'))"
      ],
      "execution_count": null,
      "outputs": [
        {
          "output_type": "stream",
          "text": [
            "Sean\n"
          ],
          "name": "stdout"
        }
      ]
    },
    {
      "cell_type": "code",
      "metadata": {
        "id": "wULPAxVtMVcW",
        "outputId": "40393423-0664-42cb-d16a-e5ebb58dd241"
      },
      "source": [
        "print(Team.get('Coach'))"
      ],
      "execution_count": null,
      "outputs": [
        {
          "output_type": "stream",
          "text": [
            "None\n"
          ],
          "name": "stdout"
        }
      ]
    },
    {
      "cell_type": "markdown",
      "metadata": {
        "id": "aLDJfK0KMVcX"
      },
      "source": [
        "07 - Usando iterações no Python\n",
        "\n",
        "**For Loops\n",
        "\n",
        "Iteração é a habilidade de executar um certo código repetidamente\n"
      ]
    },
    {
      "cell_type": "code",
      "metadata": {
        "id": "7xNxlFRfMVcY"
      },
      "source": [
        "even = [0,2,4,6,8,10,12,14,16,18,20]"
      ],
      "execution_count": null,
      "outputs": []
    },
    {
      "cell_type": "code",
      "metadata": {
        "id": "nKNAeHfzMVcY",
        "outputId": "8155b015-2920-49ad-ddee-0b707e9f602c"
      },
      "source": [
        "for n in even:\n",
        "    print(n)"
      ],
      "execution_count": null,
      "outputs": [
        {
          "output_type": "stream",
          "text": [
            "0\n",
            "2\n",
            "4\n",
            "6\n",
            "8\n",
            "10\n",
            "12\n",
            "14\n",
            "16\n",
            "18\n",
            "20\n"
          ],
          "name": "stdout"
        }
      ]
    },
    {
      "cell_type": "markdown",
      "metadata": {
        "id": "WkcQkj6wPcoG"
      },
      "source": [
        "** While Loops e incrementos"
      ]
    },
    {
      "cell_type": "code",
      "metadata": {
        "id": "iXXdb4UTMVcZ",
        "outputId": "b5106207-7e8d-45a9-8b0a-3a6bf7d6aec9"
      },
      "source": [
        "x = 0\n",
        "while x <= 20:\n",
        "    print (x)\n",
        "    x = x + 2"
      ],
      "execution_count": null,
      "outputs": [
        {
          "output_type": "stream",
          "text": [
            "0\n",
            "2\n",
            "4\n",
            "6\n",
            "8\n",
            "10\n",
            "12\n",
            "14\n",
            "16\n",
            "18\n",
            "20\n"
          ],
          "name": "stdout"
        }
      ]
    },
    {
      "cell_type": "code",
      "metadata": {
        "id": "_tSqOhtfMVcZ"
      },
      "source": [
        "# Adicionar a quantia que esta sendo adicionada progressivamente é chamada de incremento."
      ],
      "execution_count": null,
      "outputs": []
    },
    {
      "cell_type": "code",
      "metadata": {
        "id": "Gt4tvYMBMVca",
        "outputId": "205a3363-0155-4ff6-d5e8-36bbd929c709"
      },
      "source": [
        "x = 0\n",
        "while x <= 20:\n",
        "    print (x)\n",
        "    x += 2"
      ],
      "execution_count": null,
      "outputs": [
        {
          "output_type": "stream",
          "text": [
            "0\n",
            "2\n",
            "4\n",
            "6\n",
            "8\n",
            "10\n",
            "12\n",
            "14\n",
            "16\n",
            "18\n",
            "20\n"
          ],
          "name": "stdout"
        }
      ]
    },
    {
      "cell_type": "markdown",
      "metadata": {
        "id": "EdA7TftnMVca"
      },
      "source": [
        "** Criar Lista com a Função Range()\n",
        "\n",
        "range( start, stop, step)\n",
        "\n",
        "start = o primeiro número na lista\n",
        "stop = o último valor + 1\n",
        "step = a distancia a cada dois valores consecutivos\n"
      ]
    },
    {
      "cell_type": "code",
      "metadata": {
        "id": "QeH-17PtMVcb",
        "outputId": "35fe74d7-bf1d-4f95-947f-6aacc24337f7"
      },
      "source": [
        "range(10)"
      ],
      "execution_count": null,
      "outputs": [
        {
          "output_type": "execute_result",
          "data": {
            "text/plain": [
              "range(0, 10)"
            ]
          },
          "metadata": {
            "tags": []
          },
          "execution_count": 271
        }
      ]
    },
    {
      "cell_type": "code",
      "metadata": {
        "id": "L6vlO6h8MVcg",
        "outputId": "97ab07ee-7883-485e-9fe9-ce3e96d828cc"
      },
      "source": [
        "range(3,7)"
      ],
      "execution_count": null,
      "outputs": [
        {
          "output_type": "execute_result",
          "data": {
            "text/plain": [
              "range(3, 7)"
            ]
          },
          "metadata": {
            "tags": []
          },
          "execution_count": 272
        }
      ]
    },
    {
      "cell_type": "code",
      "metadata": {
        "id": "E4dAafQqMVcg",
        "outputId": "d941cdc2-7df9-40f6-b8f7-7b01d9d319f3"
      },
      "source": [
        "range(1,20,2)"
      ],
      "execution_count": null,
      "outputs": [
        {
          "output_type": "execute_result",
          "data": {
            "text/plain": [
              "range(1, 20, 2)"
            ]
          },
          "metadata": {
            "tags": []
          },
          "execution_count": 273
        }
      ]
    },
    {
      "cell_type": "code",
      "metadata": {
        "id": "q-9yCFnNMVch",
        "outputId": "3de45164-0946-4acd-b2ff-6cc80048cef0"
      },
      "source": [
        "for n in range(10):\n",
        "    print(2 ** n,)"
      ],
      "execution_count": null,
      "outputs": [
        {
          "output_type": "stream",
          "text": [
            "1\n",
            "2\n",
            "4\n",
            "8\n",
            "16\n",
            "32\n",
            "64\n",
            "128\n",
            "256\n",
            "512\n"
          ],
          "name": "stdout"
        }
      ]
    },
    {
      "cell_type": "code",
      "metadata": {
        "id": "F2CAY2cBMVch",
        "outputId": "0eb4481a-3761-4b88-a9e7-945aa7a4e426"
      },
      "source": [
        "for x in range(20):\n",
        "    if x % 2 == 0:\n",
        "        print(x,)\n",
        "    else:\n",
        "        print(\"Odd\")"
      ],
      "execution_count": null,
      "outputs": [
        {
          "output_type": "stream",
          "text": [
            "0\n",
            "Odd\n",
            "2\n",
            "Odd\n",
            "4\n",
            "Odd\n",
            "6\n",
            "Odd\n",
            "8\n",
            "Odd\n",
            "10\n",
            "Odd\n",
            "12\n",
            "Odd\n",
            "14\n",
            "Odd\n",
            "16\n",
            "Odd\n",
            "18\n",
            "Odd\n"
          ],
          "name": "stdout"
        }
      ]
    },
    {
      "cell_type": "code",
      "metadata": {
        "id": "Aan3Z9VjMVci"
      },
      "source": [
        "x = [0,1,2]"
      ],
      "execution_count": null,
      "outputs": []
    },
    {
      "cell_type": "code",
      "metadata": {
        "id": "eONxaSzAMVci",
        "outputId": "d0dbff90-83e0-4505-9452-2d089a40f485"
      },
      "source": [
        "for item in x:\n",
        "    print(item,)"
      ],
      "execution_count": null,
      "outputs": [
        {
          "output_type": "stream",
          "text": [
            "0\n",
            "1\n",
            "2\n"
          ],
          "name": "stdout"
        }
      ]
    },
    {
      "cell_type": "code",
      "metadata": {
        "id": "xBN7VZzqMVci",
        "outputId": "1fb39a4a-42a7-4150-f1d5-3b80fe4b4044"
      },
      "source": [
        "for item in range(len(x)):\n",
        "    print(x[item])"
      ],
      "execution_count": null,
      "outputs": [
        {
          "output_type": "stream",
          "text": [
            "0\n",
            "1\n",
            "2\n"
          ],
          "name": "stdout"
        }
      ]
    },
    {
      "cell_type": "code",
      "metadata": {
        "id": "py-bRZMdMVcj"
      },
      "source": [
        "def count(numbers):\n",
        "    total = 0\n",
        "    for x in numbers:\n",
        "        if x < 20:\n",
        "            total += 1\n",
        "    return total"
      ],
      "execution_count": null,
      "outputs": []
    },
    {
      "cell_type": "code",
      "metadata": {
        "id": "orIANxgsMVcj"
      },
      "source": [
        "list_1 = [1,3,7,15,23,43,56,98,17]"
      ],
      "execution_count": null,
      "outputs": []
    },
    {
      "cell_type": "code",
      "metadata": {
        "id": "MFmDC2XiMVck",
        "outputId": "c851240e-9682-4f90-a6c7-8da572d6d861"
      },
      "source": [
        "count(list_1)"
      ],
      "execution_count": null,
      "outputs": [
        {
          "output_type": "execute_result",
          "data": {
            "text/plain": [
              "5"
            ]
          },
          "metadata": {
            "tags": []
          },
          "execution_count": 292
        }
      ]
    },
    {
      "cell_type": "code",
      "metadata": {
        "id": "QLEei2tNMVcm",
        "outputId": "d08a10e0-c06c-4c19-ca86-c6d75d9a8fd0"
      },
      "source": [
        "prices = {\n",
        "    \"box_of_spaghetti\":4,\n",
        "    \"lasagna\":5,\n",
        "    \"hamburger\":2\n",
        "    }\n",
        "quantity = {\n",
        "    \"box_of_spaghetti\":6,\n",
        "    \"lasagna\":10,\n",
        "    \"hamburger\":0\n",
        "    }\n",
        "\n",
        "money_spent = 0\n",
        "\n",
        "for i in prices:\n",
        "    money_spent = money_spent + (prices[i]*quantity[i])\n",
        "\n",
        "print(money_spent)"
      ],
      "execution_count": null,
      "outputs": [
        {
          "output_type": "stream",
          "text": [
            "74\n"
          ],
          "name": "stdout"
        }
      ]
    },
    {
      "cell_type": "code",
      "metadata": {
        "id": "76IgPtIvMVcm",
        "outputId": "cfe01c8a-4ceb-4d2e-b24b-9d64df3897bd"
      },
      "source": [
        "prices = {\n",
        "    \"box_of_spaghetti\":4,\n",
        "    \"lasagna\":5,\n",
        "    \"hamburger\":2\n",
        "    }\n",
        "quantity = {\n",
        "    \"box_of_spaghetti\":6,\n",
        "    \"lasagna\":10,\n",
        "    \"hamburger\":0\n",
        "    }\n",
        "\n",
        "money_spent = 0\n",
        "\n",
        "for i in quantity:\n",
        "    money_spent = money_spent + (prices[i]*quantity[i])\n",
        "\n",
        "print(money_spent)"
      ],
      "execution_count": null,
      "outputs": [
        {
          "output_type": "stream",
          "text": [
            "74\n"
          ],
          "name": "stdout"
        }
      ]
    },
    {
      "cell_type": "code",
      "metadata": {
        "id": "-pX6KvjUMVcn"
      },
      "source": [
        ""
      ],
      "execution_count": null,
      "outputs": []
    }
  ]
}